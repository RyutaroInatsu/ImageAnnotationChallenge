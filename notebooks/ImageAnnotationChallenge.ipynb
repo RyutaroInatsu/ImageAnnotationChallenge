{
  "nbformat": 4,
  "nbformat_minor": 0,
  "metadata": {
    "colab": {
      "name": "ImageAnnotationChallenge.ipynb",
      "provenance": [],
      "collapsed_sections": [
        "s5WF4LuUMVXU",
        "HA-ka44VMADn",
        "7MF8nvvoudjV",
        "RFsk_ZfmugsI",
        "MZ3aLlEf7jOY",
        "CIQ1Gdjoc6yT",
        "vnAzLxXIMn6Y",
        "ivxiBBlERXDA",
        "lwRcYPQIDfrQ",
        "krLUTDwgHLeM",
        "q0T88YGrHaZ3",
        "KQS5ZL43Hq7a",
        "Rd-rkanZetyk",
        "M_AXIPB-e2dC",
        "RLx3qy3efqba",
        "Ruo_hDe8fwdc",
        "7ApAFc7-Ifzi"
      ],
      "toc_visible": true,
      "include_colab_link": true
    },
    "interpreter": {
      "hash": "425bf8898079d02376eb0435855ba56ed931084c9b470c0ed8bdbe4b59ad1a75"
    },
    "kernelspec": {
      "display_name": "Python 3.9.6 64-bit",
      "name": "python3"
    },
    "language_info": {
      "name": "python",
      "version": "3.9.6"
    }
  },
  "cells": [
    {
      "cell_type": "markdown",
      "metadata": {
        "id": "view-in-github",
        "colab_type": "text"
      },
      "source": [
        "<a href=\"https://colab.research.google.com/github/ryu-i-engineer/ImageAnnotationChallenge/blob/main/notebooks/ImageAnnotationChallenge.ipynb\" target=\"_parent\"><img src=\"https://colab.research.google.com/assets/colab-badge.svg\" alt=\"Open In Colab\"/></a>"
      ]
    },
    {
      "cell_type": "markdown",
      "metadata": {
        "id": "mpNpxQwqJLwZ"
      },
      "source": [
        "# ImageAnnotationChallenge"
      ]
    },
    {
      "cell_type": "markdown",
      "metadata": {
        "id": "s5WF4LuUMVXU"
      },
      "source": [
        "## Overview : 概要"
      ]
    },
    {
      "cell_type": "markdown",
      "metadata": {
        "id": "arPCMYadLB5R"
      },
      "source": [
        "### Project target : プロジェクト目標"
      ]
    },
    {
      "cell_type": "markdown",
      "metadata": {
        "id": "Qd8H-Pa0LEXH"
      },
      "source": [
        "- 普通のECサイトにおける検索機能について､改善方法を検討する\n",
        "- 画像認識によるタグ付けの開発を優先する\n",
        "- メンバーも実際のプロジェクト経験をもらいつつ､デモプロジェクトの開発と記事を作成できるまで頑張る\n",
        "\n",
        "In English:\n",
        "- Consider the ways how to improve search function on e-commerce site.\n",
        "- Prioritize the development of tagging by image recognition.\n",
        "- The members will do our best until creating an article and developing demo project, gaining project experience.\n"
      ]
    },
    {
      "cell_type": "markdown",
      "metadata": {
        "id": "eyoPu79OLp2X"
      },
      "source": [
        "### Study scope : 学習範囲"
      ]
    },
    {
      "cell_type": "markdown",
      "metadata": {
        "id": "Ge1Xvaf0Lxz1"
      },
      "source": [
        "* Note記事を書く\n",
        "* 画像認識によるタグ付けを優先して開発する\n",
        "* 日本語･英語両方タグ付けできるようにする\n",
        "\n",
        "In English:\n",
        "\n",
        "* Write a note article\n",
        "* Develop tagging system by image recognition in priority\n",
        "* The system becomes able to tag  in Japanese and English\n"
      ]
    },
    {
      "cell_type": "markdown",
      "metadata": {
        "id": "nhLjezJvL___"
      },
      "source": [
        "### Repository"
      ]
    },
    {
      "cell_type": "markdown",
      "metadata": {
        "id": "EMyYF913MDcF"
      },
      "source": [
        "* [TOP](https://github.com/ryu-i-engineer/ImageAnnotationChallenge)\n",
        "* [Projects](https://github.com/ryu-i-engineer/ImageAnnotationChallenge/projects/2)"
      ]
    },
    {
      "cell_type": "markdown",
      "metadata": {
        "id": "HA-ka44VMADn"
      },
      "source": [
        "## Reference"
      ]
    },
    {
      "cell_type": "markdown",
      "metadata": {
        "id": "1LX-bwDmL3Ht"
      },
      "source": [
        "- https://www.tensorflow.org/tutorials/images/transfer_learning_with_hub\n",
        "- https://www.tensorflow.org/tutorials/images/segmentation"
      ]
    },
    {
      "cell_type": "markdown",
      "metadata": {
        "id": "7MF8nvvoudjV"
      },
      "source": [
        "### About Transfer learning"
      ]
    },
    {
      "cell_type": "markdown",
      "metadata": {
        "id": "RFsk_ZfmugsI"
      },
      "source": [
        "#### Domain problem"
      ]
    },
    {
      "cell_type": "markdown",
      "metadata": {
        "id": "df45uZpOui9S"
      },
      "source": [
        "- [転移学習：機械学習の次のフロンティアへの招待](https://qiita.com/icoxfog417/items/48cbf087dd22f1f8c6f4#%E8%BB%A2%E7%A7%BB%E5%AD%A6%E7%BF%92%E3%81%AE%E5%8F%96%E3%82%8A%E7%B5%84%E3%82%80%E5%95%8F%E9%A1%8C)"
      ]
    },
    {
      "cell_type": "markdown",
      "metadata": {
        "id": "DCOK9Ab9MTvm"
      },
      "source": [
        "## Dataset"
      ]
    },
    {
      "cell_type": "markdown",
      "metadata": {
        "id": "PL_1mEo08zN4"
      },
      "source": [
        "### Using web scraping"
      ]
    },
    {
      "cell_type": "markdown",
      "metadata": {
        "id": "XQvFjsW587QL"
      },
      "source": [
        "From here.\n",
        "- https://jp.misumi-ec.com/vona2/mech_screw/M3303000000/?rid=c21_top_4_M3303000000"
      ]
    },
    {
      "cell_type": "code",
      "metadata": {
        "id": "JIbCpxTaJJme"
      },
      "source": [
        "import os\n",
        "import seaborn as sns\n",
        "import pandas as pd\n",
        "\n",
        "misumi_dataset_path = \"./inputs/misumi_dataset_cleansing\"\n",
        "\n",
        "label_names = []\n",
        "label_file_counts = []\n",
        "\n",
        "for dir_name in os.listdir(misumi_dataset_path):\n",
        "    label_names.append(dir_name)\n",
        "    label_file_counts.append(len([filename for filename in os.listdir(os.path.join(misumi_dataset_path, dir_name)) if os.path.isfile(os.path.join(misumi_dataset_path, dir_name, filename))]))\n",
        "    "
      ],
      "execution_count": null,
      "outputs": []
    },
    {
      "cell_type": "code",
      "metadata": {
        "colab": {
          "base_uri": "https://localhost:8080/",
          "height": 297
        },
        "id": "c6z0lhBTMvHi",
        "outputId": "666db2f5-64ae-4bc9-f240-05735f90984d"
      },
      "source": [
        "d = {'Labels' : label_names, 'File counts': label_file_counts}\n",
        "misumi_df = pd.DataFrame(d)\n",
        "misumi_df.describe()"
      ],
      "execution_count": null,
      "outputs": [
        {
          "output_type": "execute_result",
          "data": {
            "text/plain": [
              "       File counts\n",
              "count   134.000000\n",
              "mean     87.089552\n",
              "std     170.999559\n",
              "min       2.000000\n",
              "25%      17.000000\n",
              "50%      40.000000\n",
              "75%      86.750000\n",
              "max    1491.000000"
            ],
            "text/html": [
              "<div>\n",
              "<style scoped>\n",
              "    .dataframe tbody tr th:only-of-type {\n",
              "        vertical-align: middle;\n",
              "    }\n",
              "\n",
              "    .dataframe tbody tr th {\n",
              "        vertical-align: top;\n",
              "    }\n",
              "\n",
              "    .dataframe thead th {\n",
              "        text-align: right;\n",
              "    }\n",
              "</style>\n",
              "<table border=\"1\" class=\"dataframe\">\n",
              "  <thead>\n",
              "    <tr style=\"text-align: right;\">\n",
              "      <th></th>\n",
              "      <th>File counts</th>\n",
              "    </tr>\n",
              "  </thead>\n",
              "  <tbody>\n",
              "    <tr>\n",
              "      <th>count</th>\n",
              "      <td>134.000000</td>\n",
              "    </tr>\n",
              "    <tr>\n",
              "      <th>mean</th>\n",
              "      <td>87.089552</td>\n",
              "    </tr>\n",
              "    <tr>\n",
              "      <th>std</th>\n",
              "      <td>170.999559</td>\n",
              "    </tr>\n",
              "    <tr>\n",
              "      <th>min</th>\n",
              "      <td>2.000000</td>\n",
              "    </tr>\n",
              "    <tr>\n",
              "      <th>25%</th>\n",
              "      <td>17.000000</td>\n",
              "    </tr>\n",
              "    <tr>\n",
              "      <th>50%</th>\n",
              "      <td>40.000000</td>\n",
              "    </tr>\n",
              "    <tr>\n",
              "      <th>75%</th>\n",
              "      <td>86.750000</td>\n",
              "    </tr>\n",
              "    <tr>\n",
              "      <th>max</th>\n",
              "      <td>1491.000000</td>\n",
              "    </tr>\n",
              "  </tbody>\n",
              "</table>\n",
              "</div>"
            ]
          },
          "metadata": {},
          "execution_count": 2
        }
      ]
    },
    {
      "cell_type": "markdown",
      "metadata": {
        "id": "MZ3aLlEf7jOY"
      },
      "source": [
        "### Dummy data"
      ]
    },
    {
      "cell_type": "markdown",
      "metadata": {
        "id": "psMAwJWoGtkq"
      },
      "source": [
        "- 3D\n",
        "- CAD\n",
        "- Items should not be there.\n",
        "- Utilities something like \"Accessories\" and \"Components\""
      ]
    },
    {
      "cell_type": "markdown",
      "metadata": {
        "id": "aiqjl7cg7loW"
      },
      "source": [
        "![noimage.jpg](data:image/jpeg;base64,iVBORw0KGgoAAAANSUhEUgAAAJYAAACWBAMAAADOL2zRAAAAJ1BMVEX////Ly8vz8/P39/fS0tLn5+ff39/b29vX19f7+/vv7+/r6+vj4+PUotGbAAAC4UlEQVRo3u2av2rbUBTGj3WTgO0M95NkE8cdVBqSjgru381KjfGQIaZkr0r6Au4LJKEdShfnDeyh0NFT5xT6YD2SCwq4LlydM3S4H1hX9w4/fbr32GDORyFp6YSOEyWUmVFwq8Q6StmajrHgfXnRsZVUV6mtGZGOsWqn5MbKE9Qy9jKpDEptRQ8dynScbNzLdqvyKD/Eau9EJb/hUljymzbltnhhJrC1uSK3VS3JD7Eylsprq/qNFZT8htm0jq2Q/iZzJrYl+VZur/HgTHSIwuIPZq6OK7kU+NNEWvKVgo9OrGf/fPSpizF+speXl9f/qkG6vihoF4d8RaTDgibrXpHVU2RhzWr+mizkrFXJygAkQtYEtmA1gAyhkDXEQcGasqkcUtYUKbPQIfa2ErIasIiasER7uBayDDqIDGw5EbIohx6rwSxCSHxzIWW1C1YWE51iLmVRhog54XN0Scy6Y1YLrKGctc8segV0SEvmNXl5eXl5eW2VGeixGkg9y41lLhcvxildfeVp+9NkxcP3cfrtLVFwdT53Y+1iDBwuAUsGrDkvopt1iDLgkSsLMYAMfZ7x3TUzeOjQTjFcOLK69Bg9wgEP1IZtMqfBnyXmLVhHluXhnqYxsQLYYoGYdcMveNN3ZA2LoWQ1fwB2h8EFC/3BIO/WZbWAksWblDGrUFyXtUR8+ZA1Go3O67LQJQO7/2e/EBKrNisk3vgAEe0xK+f3i7/UZuFJDsvDB5R1cXsEW5c1BatHd+u6b4G1qMvaBd7lXFU5Fszi0pX8/zYpseb8yfrrqVAGXKDsSEXA55+wOqwlWIkOy+R8BuTlJe1Vu3e/pI2wk8TBlvihwazGZsi7YMEbQYdsW9BBvwcm782p9wz1e5nyHqt+71e/Jy3vlav38PWzBfLMg34WQz8jIs+uqGdq9LM+8gySajZKM7OlmiXTzLipZu80M4GqWUXNDKVqtlMzc6qZhdXM6Gpmh38DD8l5M5NG3+MAAAAASUVORK5CYII=)\n",
        "![dummy_connector.jpg](data:image/jpeg;base64,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)\n",
        "![000071.jpg](data:image/jpeg;base64,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)\n",
        "![002662.jpg](data:image/jpeg;base64,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)"
      ]
    },
    {
      "cell_type": "markdown",
      "metadata": {
        "id": "ovTz9Yd3c3Bd"
      },
      "source": [
        "### Define lables and binarize"
      ]
    },
    {
      "cell_type": "markdown",
      "metadata": {
        "id": "yK-J0tFIs0FO"
      },
      "source": [
        "#### CSV format"
      ]
    },
    {
      "cell_type": "markdown",
      "metadata": {
        "id": "z9VGM2TKs3uI"
      },
      "source": [
        "```csv\n",
        "\"directory\",\"filename\",\"tag1\",\"tag2\",\"tag3\",\"tag4\",\"tag5\",\"tag6\",\"tag7\",\"tag8\",\"tag9\",\"tag10\"\n",
        "\"nuts\",\"test.jpg\",\"nuts\",\"metal\",\"hex\",\n",
        "\"bolts\",\"test2.jpg\",\"nuts\",\"non-metal\",\"screws\",\"flat\"\n",
        "```"
      ]
    },
    {
      "cell_type": "markdown",
      "metadata": {
        "id": "3BLAzA6xs9si"
      },
      "source": [
        "#### Code"
      ]
    },
    {
      "cell_type": "code",
      "metadata": {
        "colab": {
          "base_uri": "https://localhost:8080/",
          "height": 419
        },
        "id": "Iq9uTvDmgqZh",
        "outputId": "c44b5f33-237a-4fa6-c157-60ef5990f178"
      },
      "source": [
        "import pandas as pd\n",
        "df = pd.read_csv(\"./inputs/fasteners/fasteners_label.csv\")\n",
        "df.dropna(axis=1, how=\"all\")"
      ],
      "execution_count": 38,
      "outputs": [
        {
          "output_type": "execute_result",
          "data": {
            "text/plain": [
              "     directory    filename      tag1             tag2   tag3             tag4  \\\n",
              "0        screw  000000.jpg    Silver  Internal Square  Bugle  Stainless Steel   \n",
              "1        screw  000001.jpg    Silver  Internal Square  Bugle  Stainless Steel   \n",
              "2        screw  000002.jpg    Silver  Internal Square  Bugle  Stainless Steel   \n",
              "3        screw  000003.jpg      Blue         Phillips   Flat     Carbon Steel   \n",
              "4        screw  000004.jpg      Blue         Phillips   Flat     Carbon Steel   \n",
              "...        ...         ...       ...              ...    ...              ...   \n",
              "3793     screw  003987.jpg  Burgundy     External Hex    Hex      Washer Head   \n",
              "3794     screw  003988.jpg  Burgundy     External Hex    Hex      Washer Head   \n",
              "3795     screw  003989.jpg    Bronze     External Hex    Hex      Washer Head   \n",
              "3796     screw  003990.jpg    Bronze     External Hex    Hex      Washer Head   \n",
              "3797     screw  003991.jpg    Bronze     External Hex    Hex      Washer Head   \n",
              "\n",
              "                tag5           tag6   tag7 tag8 tag9 tag10 tag11  \n",
              "0         Deck Screw         Coarse    NaN  NaN  NaN   NaN   NaN  \n",
              "1         Deck Screw         Coarse    NaN  NaN  NaN   NaN   NaN  \n",
              "2         Deck Screw         Coarse    NaN  NaN  NaN   NaN   NaN  \n",
              "3     Masonry Anchor            NaN    NaN  NaN  NaN   NaN   NaN  \n",
              "4     Masonry Anchor            NaN    NaN  NaN  NaN   NaN   NaN  \n",
              "...              ...            ...    ...  ...  ...   ...   ...  \n",
              "3793           Steel  Roofing Screw  Hi-Lo  NaN  NaN   NaN   NaN  \n",
              "3794           Steel  Roofing Screw  Hi-Lo  NaN  NaN   NaN   NaN  \n",
              "3795           Steel  Roofing Screw  Hi-Lo  NaN  NaN   NaN   NaN  \n",
              "3796           Steel  Roofing Screw  Hi-Lo  NaN  NaN   NaN   NaN  \n",
              "3797           Steel  Roofing Screw  Hi-Lo  NaN  NaN   NaN   NaN  \n",
              "\n",
              "[3798 rows x 13 columns]"
            ],
            "text/html": [
              "<div>\n",
              "<style scoped>\n",
              "    .dataframe tbody tr th:only-of-type {\n",
              "        vertical-align: middle;\n",
              "    }\n",
              "\n",
              "    .dataframe tbody tr th {\n",
              "        vertical-align: top;\n",
              "    }\n",
              "\n",
              "    .dataframe thead th {\n",
              "        text-align: right;\n",
              "    }\n",
              "</style>\n",
              "<table border=\"1\" class=\"dataframe\">\n",
              "  <thead>\n",
              "    <tr style=\"text-align: right;\">\n",
              "      <th></th>\n",
              "      <th>directory</th>\n",
              "      <th>filename</th>\n",
              "      <th>tag1</th>\n",
              "      <th>tag2</th>\n",
              "      <th>tag3</th>\n",
              "      <th>tag4</th>\n",
              "      <th>tag5</th>\n",
              "      <th>tag6</th>\n",
              "      <th>tag7</th>\n",
              "      <th>tag8</th>\n",
              "      <th>tag9</th>\n",
              "      <th>tag10</th>\n",
              "      <th>tag11</th>\n",
              "    </tr>\n",
              "  </thead>\n",
              "  <tbody>\n",
              "    <tr>\n",
              "      <th>0</th>\n",
              "      <td>screw</td>\n",
              "      <td>000000.jpg</td>\n",
              "      <td>Silver</td>\n",
              "      <td>Internal Square</td>\n",
              "      <td>Bugle</td>\n",
              "      <td>Stainless Steel</td>\n",
              "      <td>Deck Screw</td>\n",
              "      <td>Coarse</td>\n",
              "      <td>NaN</td>\n",
              "      <td>NaN</td>\n",
              "      <td>NaN</td>\n",
              "      <td>NaN</td>\n",
              "      <td>NaN</td>\n",
              "    </tr>\n",
              "    <tr>\n",
              "      <th>1</th>\n",
              "      <td>screw</td>\n",
              "      <td>000001.jpg</td>\n",
              "      <td>Silver</td>\n",
              "      <td>Internal Square</td>\n",
              "      <td>Bugle</td>\n",
              "      <td>Stainless Steel</td>\n",
              "      <td>Deck Screw</td>\n",
              "      <td>Coarse</td>\n",
              "      <td>NaN</td>\n",
              "      <td>NaN</td>\n",
              "      <td>NaN</td>\n",
              "      <td>NaN</td>\n",
              "      <td>NaN</td>\n",
              "    </tr>\n",
              "    <tr>\n",
              "      <th>2</th>\n",
              "      <td>screw</td>\n",
              "      <td>000002.jpg</td>\n",
              "      <td>Silver</td>\n",
              "      <td>Internal Square</td>\n",
              "      <td>Bugle</td>\n",
              "      <td>Stainless Steel</td>\n",
              "      <td>Deck Screw</td>\n",
              "      <td>Coarse</td>\n",
              "      <td>NaN</td>\n",
              "      <td>NaN</td>\n",
              "      <td>NaN</td>\n",
              "      <td>NaN</td>\n",
              "      <td>NaN</td>\n",
              "    </tr>\n",
              "    <tr>\n",
              "      <th>3</th>\n",
              "      <td>screw</td>\n",
              "      <td>000003.jpg</td>\n",
              "      <td>Blue</td>\n",
              "      <td>Phillips</td>\n",
              "      <td>Flat</td>\n",
              "      <td>Carbon Steel</td>\n",
              "      <td>Masonry Anchor</td>\n",
              "      <td>NaN</td>\n",
              "      <td>NaN</td>\n",
              "      <td>NaN</td>\n",
              "      <td>NaN</td>\n",
              "      <td>NaN</td>\n",
              "      <td>NaN</td>\n",
              "    </tr>\n",
              "    <tr>\n",
              "      <th>4</th>\n",
              "      <td>screw</td>\n",
              "      <td>000004.jpg</td>\n",
              "      <td>Blue</td>\n",
              "      <td>Phillips</td>\n",
              "      <td>Flat</td>\n",
              "      <td>Carbon Steel</td>\n",
              "      <td>Masonry Anchor</td>\n",
              "      <td>NaN</td>\n",
              "      <td>NaN</td>\n",
              "      <td>NaN</td>\n",
              "      <td>NaN</td>\n",
              "      <td>NaN</td>\n",
              "      <td>NaN</td>\n",
              "    </tr>\n",
              "    <tr>\n",
              "      <th>...</th>\n",
              "      <td>...</td>\n",
              "      <td>...</td>\n",
              "      <td>...</td>\n",
              "      <td>...</td>\n",
              "      <td>...</td>\n",
              "      <td>...</td>\n",
              "      <td>...</td>\n",
              "      <td>...</td>\n",
              "      <td>...</td>\n",
              "      <td>...</td>\n",
              "      <td>...</td>\n",
              "      <td>...</td>\n",
              "      <td>...</td>\n",
              "    </tr>\n",
              "    <tr>\n",
              "      <th>3793</th>\n",
              "      <td>screw</td>\n",
              "      <td>003987.jpg</td>\n",
              "      <td>Burgundy</td>\n",
              "      <td>External Hex</td>\n",
              "      <td>Hex</td>\n",
              "      <td>Washer Head</td>\n",
              "      <td>Steel</td>\n",
              "      <td>Roofing Screw</td>\n",
              "      <td>Hi-Lo</td>\n",
              "      <td>NaN</td>\n",
              "      <td>NaN</td>\n",
              "      <td>NaN</td>\n",
              "      <td>NaN</td>\n",
              "    </tr>\n",
              "    <tr>\n",
              "      <th>3794</th>\n",
              "      <td>screw</td>\n",
              "      <td>003988.jpg</td>\n",
              "      <td>Burgundy</td>\n",
              "      <td>External Hex</td>\n",
              "      <td>Hex</td>\n",
              "      <td>Washer Head</td>\n",
              "      <td>Steel</td>\n",
              "      <td>Roofing Screw</td>\n",
              "      <td>Hi-Lo</td>\n",
              "      <td>NaN</td>\n",
              "      <td>NaN</td>\n",
              "      <td>NaN</td>\n",
              "      <td>NaN</td>\n",
              "    </tr>\n",
              "    <tr>\n",
              "      <th>3795</th>\n",
              "      <td>screw</td>\n",
              "      <td>003989.jpg</td>\n",
              "      <td>Bronze</td>\n",
              "      <td>External Hex</td>\n",
              "      <td>Hex</td>\n",
              "      <td>Washer Head</td>\n",
              "      <td>Steel</td>\n",
              "      <td>Roofing Screw</td>\n",
              "      <td>Hi-Lo</td>\n",
              "      <td>NaN</td>\n",
              "      <td>NaN</td>\n",
              "      <td>NaN</td>\n",
              "      <td>NaN</td>\n",
              "    </tr>\n",
              "    <tr>\n",
              "      <th>3796</th>\n",
              "      <td>screw</td>\n",
              "      <td>003990.jpg</td>\n",
              "      <td>Bronze</td>\n",
              "      <td>External Hex</td>\n",
              "      <td>Hex</td>\n",
              "      <td>Washer Head</td>\n",
              "      <td>Steel</td>\n",
              "      <td>Roofing Screw</td>\n",
              "      <td>Hi-Lo</td>\n",
              "      <td>NaN</td>\n",
              "      <td>NaN</td>\n",
              "      <td>NaN</td>\n",
              "      <td>NaN</td>\n",
              "    </tr>\n",
              "    <tr>\n",
              "      <th>3797</th>\n",
              "      <td>screw</td>\n",
              "      <td>003991.jpg</td>\n",
              "      <td>Bronze</td>\n",
              "      <td>External Hex</td>\n",
              "      <td>Hex</td>\n",
              "      <td>Washer Head</td>\n",
              "      <td>Steel</td>\n",
              "      <td>Roofing Screw</td>\n",
              "      <td>Hi-Lo</td>\n",
              "      <td>NaN</td>\n",
              "      <td>NaN</td>\n",
              "      <td>NaN</td>\n",
              "      <td>NaN</td>\n",
              "    </tr>\n",
              "  </tbody>\n",
              "</table>\n",
              "<p>3798 rows × 13 columns</p>\n",
              "</div>"
            ]
          },
          "metadata": {},
          "execution_count": 38
        }
      ]
    },
    {
      "cell_type": "code",
      "metadata": {
        "colab": {
          "base_uri": "https://localhost:8080/",
          "height": 250
        },
        "id": "G6CLxugwVQHB",
        "outputId": "7abdd32a-a277-4a53-a981-ec3166d3d821"
      },
      "source": [
        "from sklearn.preprocessing import MultiLabelBinarizer\n",
        "mlb = MultiLabelBinarizer()\n",
        "\n",
        "df = df.dropna(axis=1, how='all') # save memory and process usage\n",
        "df = df.fillna('None') # to avoid error\n",
        "\n",
        "result = mlb.fit_transform( df.drop(columns=['directory', 'filename']).values) # drop not tagging cols\n",
        "\n",
        "bin_df = pd.DataFrame(result, columns=mlb.classes_).drop('None', axis=1) # drop non-useless col.\n",
        "bin_df = df.join(bin_df).drop([\"tag1\", \"tag2\", \"tag3\", \"tag4\", \"tag5\", \"tag6\", \"tag7\", \"tag8\",\"tag9\", \"tag10\", \"tag11\"], axis=1)\n",
        "bin_df.head()"
      ],
      "execution_count": 39,
      "outputs": [
        {
          "output_type": "execute_result",
          "data": {
            "text/plain": [
              "  directory    filename  (with Pin)  Allen  Aluminum  Binding  Black  Blue  \\\n",
              "0     screw  000000.jpg           0      0         0        0      0     0   \n",
              "1     screw  000001.jpg           0      0         0        0      0     0   \n",
              "2     screw  000002.jpg           0      0         0        0      0     0   \n",
              "3     screw  000003.jpg           0      0         0        0      0     1   \n",
              "4     screw  000004.jpg           0      0         0        0      0     1   \n",
              "\n",
              "   Bolt  Brass  ...  Torx 6 Lobe Pan Head  Torx 6 Lobe Truss Head  Trim  \\\n",
              "0     0      0  ...                     0                       0     0   \n",
              "1     0      0  ...                     0                       0     0   \n",
              "2     0      0  ...                     0                       0     0   \n",
              "3     0      0  ...                     0                       0     0   \n",
              "4     0      0  ...                     0                       0     0   \n",
              "\n",
              "   Truss  Washer  Washer Head  White  Wood Screw  Yellow  Zinc Plated Steel  \n",
              "0      0       0            0      0           0       0                  0  \n",
              "1      0       0            0      0           0       0                  0  \n",
              "2      0       0            0      0           0       0                  0  \n",
              "3      0       0            0      0           0       0                  0  \n",
              "4      0       0            0      0           0       0                  0  \n",
              "\n",
              "[5 rows x 144 columns]"
            ],
            "text/html": [
              "<div>\n",
              "<style scoped>\n",
              "    .dataframe tbody tr th:only-of-type {\n",
              "        vertical-align: middle;\n",
              "    }\n",
              "\n",
              "    .dataframe tbody tr th {\n",
              "        vertical-align: top;\n",
              "    }\n",
              "\n",
              "    .dataframe thead th {\n",
              "        text-align: right;\n",
              "    }\n",
              "</style>\n",
              "<table border=\"1\" class=\"dataframe\">\n",
              "  <thead>\n",
              "    <tr style=\"text-align: right;\">\n",
              "      <th></th>\n",
              "      <th>directory</th>\n",
              "      <th>filename</th>\n",
              "      <th>(with Pin)</th>\n",
              "      <th>Allen</th>\n",
              "      <th>Aluminum</th>\n",
              "      <th>Binding</th>\n",
              "      <th>Black</th>\n",
              "      <th>Blue</th>\n",
              "      <th>Bolt</th>\n",
              "      <th>Brass</th>\n",
              "      <th>...</th>\n",
              "      <th>Torx 6 Lobe Pan Head</th>\n",
              "      <th>Torx 6 Lobe Truss Head</th>\n",
              "      <th>Trim</th>\n",
              "      <th>Truss</th>\n",
              "      <th>Washer</th>\n",
              "      <th>Washer Head</th>\n",
              "      <th>White</th>\n",
              "      <th>Wood Screw</th>\n",
              "      <th>Yellow</th>\n",
              "      <th>Zinc Plated Steel</th>\n",
              "    </tr>\n",
              "  </thead>\n",
              "  <tbody>\n",
              "    <tr>\n",
              "      <th>0</th>\n",
              "      <td>screw</td>\n",
              "      <td>000000.jpg</td>\n",
              "      <td>0</td>\n",
              "      <td>0</td>\n",
              "      <td>0</td>\n",
              "      <td>0</td>\n",
              "      <td>0</td>\n",
              "      <td>0</td>\n",
              "      <td>0</td>\n",
              "      <td>0</td>\n",
              "      <td>...</td>\n",
              "      <td>0</td>\n",
              "      <td>0</td>\n",
              "      <td>0</td>\n",
              "      <td>0</td>\n",
              "      <td>0</td>\n",
              "      <td>0</td>\n",
              "      <td>0</td>\n",
              "      <td>0</td>\n",
              "      <td>0</td>\n",
              "      <td>0</td>\n",
              "    </tr>\n",
              "    <tr>\n",
              "      <th>1</th>\n",
              "      <td>screw</td>\n",
              "      <td>000001.jpg</td>\n",
              "      <td>0</td>\n",
              "      <td>0</td>\n",
              "      <td>0</td>\n",
              "      <td>0</td>\n",
              "      <td>0</td>\n",
              "      <td>0</td>\n",
              "      <td>0</td>\n",
              "      <td>0</td>\n",
              "      <td>...</td>\n",
              "      <td>0</td>\n",
              "      <td>0</td>\n",
              "      <td>0</td>\n",
              "      <td>0</td>\n",
              "      <td>0</td>\n",
              "      <td>0</td>\n",
              "      <td>0</td>\n",
              "      <td>0</td>\n",
              "      <td>0</td>\n",
              "      <td>0</td>\n",
              "    </tr>\n",
              "    <tr>\n",
              "      <th>2</th>\n",
              "      <td>screw</td>\n",
              "      <td>000002.jpg</td>\n",
              "      <td>0</td>\n",
              "      <td>0</td>\n",
              "      <td>0</td>\n",
              "      <td>0</td>\n",
              "      <td>0</td>\n",
              "      <td>0</td>\n",
              "      <td>0</td>\n",
              "      <td>0</td>\n",
              "      <td>...</td>\n",
              "      <td>0</td>\n",
              "      <td>0</td>\n",
              "      <td>0</td>\n",
              "      <td>0</td>\n",
              "      <td>0</td>\n",
              "      <td>0</td>\n",
              "      <td>0</td>\n",
              "      <td>0</td>\n",
              "      <td>0</td>\n",
              "      <td>0</td>\n",
              "    </tr>\n",
              "    <tr>\n",
              "      <th>3</th>\n",
              "      <td>screw</td>\n",
              "      <td>000003.jpg</td>\n",
              "      <td>0</td>\n",
              "      <td>0</td>\n",
              "      <td>0</td>\n",
              "      <td>0</td>\n",
              "      <td>0</td>\n",
              "      <td>1</td>\n",
              "      <td>0</td>\n",
              "      <td>0</td>\n",
              "      <td>...</td>\n",
              "      <td>0</td>\n",
              "      <td>0</td>\n",
              "      <td>0</td>\n",
              "      <td>0</td>\n",
              "      <td>0</td>\n",
              "      <td>0</td>\n",
              "      <td>0</td>\n",
              "      <td>0</td>\n",
              "      <td>0</td>\n",
              "      <td>0</td>\n",
              "    </tr>\n",
              "    <tr>\n",
              "      <th>4</th>\n",
              "      <td>screw</td>\n",
              "      <td>000004.jpg</td>\n",
              "      <td>0</td>\n",
              "      <td>0</td>\n",
              "      <td>0</td>\n",
              "      <td>0</td>\n",
              "      <td>0</td>\n",
              "      <td>1</td>\n",
              "      <td>0</td>\n",
              "      <td>0</td>\n",
              "      <td>...</td>\n",
              "      <td>0</td>\n",
              "      <td>0</td>\n",
              "      <td>0</td>\n",
              "      <td>0</td>\n",
              "      <td>0</td>\n",
              "      <td>0</td>\n",
              "      <td>0</td>\n",
              "      <td>0</td>\n",
              "      <td>0</td>\n",
              "      <td>0</td>\n",
              "    </tr>\n",
              "  </tbody>\n",
              "</table>\n",
              "<p>5 rows × 144 columns</p>\n",
              "</div>"
            ]
          },
          "metadata": {},
          "execution_count": 39
        }
      ]
    },
    {
      "cell_type": "code",
      "metadata": {
        "colab": {
          "base_uri": "https://localhost:8080/"
        },
        "id": "E8Vkup9ttMci",
        "outputId": "5cc45435-df0e-4c47-98f4-c554a2ac09ff"
      },
      "source": [
        "# get tag list\n",
        "bin_df.drop(['directory', 'filename'], axis=1).columns.to_list()"
      ],
      "execution_count": 40,
      "outputs": [
        {
          "output_type": "execute_result",
          "data": {
            "text/plain": [
              "['(with Pin)',\n",
              " 'Allen',\n",
              " 'Aluminum',\n",
              " 'Binding',\n",
              " 'Black',\n",
              " 'Blue',\n",
              " 'Bolt',\n",
              " 'Brass',\n",
              " 'Bronze',\n",
              " 'Brown',\n",
              " 'Bugle',\n",
              " 'Bugle Head',\n",
              " 'Burgundy',\n",
              " 'Button',\n",
              " 'Button Flange',\n",
              " 'Button Head',\n",
              " 'Cap Screw',\n",
              " 'Carbon Steel',\n",
              " 'Carriage Bolt',\n",
              " 'Charcoal',\n",
              " 'Coarse',\n",
              " 'Color',\n",
              " 'Crimson Red',\n",
              " 'Deck Screw',\n",
              " 'Dome',\n",
              " 'Dowel Screw',\n",
              " 'Drywall Screw',\n",
              " 'External Hex',\n",
              " 'External Square',\n",
              " 'Fillister',\n",
              " 'Fine',\n",
              " 'Flange',\n",
              " 'Flange Bolt',\n",
              " 'Flat',\n",
              " 'Flat Head',\n",
              " 'Forest Green',\n",
              " 'Framing Drywall Screw',\n",
              " 'Framing Self Drilling Drywall Screw',\n",
              " 'Gray',\n",
              " 'Green',\n",
              " 'Hanger Bolt',\n",
              " 'Head',\n",
              " 'Hex',\n",
              " 'Hi-Lo',\n",
              " 'Indented Truss',\n",
              " 'Internal Hex',\n",
              " 'Internal Square',\n",
              " 'Ivory',\n",
              " 'Knurled Head',\n",
              " 'Lag Screw',\n",
              " 'Laminating Drywall Screw',\n",
              " 'Lath Screw',\n",
              " 'Machine Screw',\n",
              " 'Machine Screw Anchor Set Tool',\n",
              " 'Machine Screw are Fully Threaded',\n",
              " 'Masonry Anchor',\n",
              " 'Metric Hex',\n",
              " 'Metric Machine Screw',\n",
              " 'Metric Phillips Flat Head',\n",
              " 'Metric Phillips Pan Head',\n",
              " 'Metric Socket Cap Screw',\n",
              " 'Modified Truss',\n",
              " 'No Head',\n",
              " 'Non-Serrated Flange Bolt',\n",
              " 'One Way',\n",
              " 'One Way Round Head',\n",
              " 'Oval',\n",
              " 'Oversize Truss',\n",
              " 'Pan',\n",
              " 'Pan Head',\n",
              " 'Pancake',\n",
              " 'Phillips',\n",
              " 'Phillips Bugle Head',\n",
              " 'Phillips Flat Head',\n",
              " 'Phillips Modified Truss Head',\n",
              " 'Phillips Pan Head',\n",
              " 'Phillips Pancake Head',\n",
              " 'Plow Bolt',\n",
              " 'Red',\n",
              " 'Roofing Screw',\n",
              " 'Round',\n",
              " 'SEMS Machine Screw',\n",
              " 'Sammy Rod Hanger Anchors',\n",
              " 'Self Drilling Drywall Screw',\n",
              " 'Self Drilling Screw',\n",
              " 'Serrated Flange Bolt',\n",
              " 'Sheet Metal Screw',\n",
              " 'Sheet Metal Screw are Fully Threaded',\n",
              " 'Sidewalk Bolt',\n",
              " 'Silicon Bronze',\n",
              " 'Silver',\n",
              " 'Silver/Gray',\n",
              " 'Slate',\n",
              " 'Slotted',\n",
              " 'Slotted Flat Head',\n",
              " 'Slotted Hex',\n",
              " 'Slotted Oval Head',\n",
              " 'Slotted Round Head',\n",
              " 'Socket Cap',\n",
              " 'Socket Cap Screw',\n",
              " 'Socket Cap Shoulder Bolt',\n",
              " 'Socket Set Screw',\n",
              " 'Spanner',\n",
              " 'Spanner Oval Head',\n",
              " 'Spanner Truss Head',\n",
              " 'Square',\n",
              " 'Square Drive Pan Head',\n",
              " 'Square Drive Truss Head',\n",
              " 'Square Flat Head',\n",
              " 'Square Head',\n",
              " 'Stainless Steel',\n",
              " 'Star',\n",
              " 'Star (with Pin)',\n",
              " 'Star 6 Lobe Truss Head',\n",
              " 'Star Drive 6 Lobe Truss Head',\n",
              " 'Star Drive Deck Screw',\n",
              " 'Star Drive Pan Head',\n",
              " 'Star Tamper Proof Button Head',\n",
              " 'Star Tamper Proof Sheet Metal Screw',\n",
              " 'Steel',\n",
              " 'Tamper Proof Machine Screw',\n",
              " 'Tamper Proof Self Drilling Screw',\n",
              " 'Tamper Proof Sheet Metal Screw',\n",
              " 'Tamper Proof Socket Set Screw',\n",
              " 'Tan',\n",
              " 'Tap Bolt',\n",
              " 'Thread Cutting (Floorboard) Screw',\n",
              " 'Thread Cutting Screw',\n",
              " 'Thumb',\n",
              " 'Thumb Screw',\n",
              " 'Timber Bolt',\n",
              " 'Torx 6 Lobe Flat Head',\n",
              " 'Torx 6 Lobe Pan Head',\n",
              " 'Torx 6 Lobe Truss Head',\n",
              " 'Trim',\n",
              " 'Truss',\n",
              " 'Washer',\n",
              " 'Washer Head',\n",
              " 'White',\n",
              " 'Wood Screw',\n",
              " 'Yellow',\n",
              " 'Zinc Plated Steel']"
            ]
          },
          "metadata": {},
          "execution_count": 40
        }
      ]
    },
    {
      "cell_type": "code",
      "metadata": {
        "colab": {
          "base_uri": "https://localhost:8080/"
        },
        "id": "6TyG332fckIb",
        "outputId": "10f395e1-8d1b-4a58-84be-307e27d66cbd"
      },
      "source": [
        "# split tags\n",
        "import string\n",
        "from nltk.stem import WordNetLemmatizer\n",
        "wnl = WordNetLemmatizer()\n",
        "\n",
        "counts = {}\n",
        "for tag in bin_df.drop(['directory', 'filename'], axis=1).columns:\n",
        "    words = tag.split()\n",
        "    for word in words:\n",
        "        word = wnl.lemmatize(word, pos=\"n\")\n",
        "        word = word.translate(str.maketrans('', '', string.punctuation)) # remove punctuation\n",
        "        if word not in counts:\n",
        "            counts[word] = 0\n",
        "        counts[word] += 1\n",
        "\n",
        "dict(sorted(counts.items(), key=lambda item: item[0]))"
      ],
      "execution_count": 37,
      "outputs": [
        {
          "output_type": "execute_result",
          "data": {
            "text/plain": [
              "{'6': 5,\n",
              " 'Allen': 1,\n",
              " 'Aluminum': 1,\n",
              " 'Anchor': 2,\n",
              " 'Anchors': 1,\n",
              " 'Binding': 1,\n",
              " 'Black': 1,\n",
              " 'Blue': 1,\n",
              " 'Bolt': 4,\n",
              " 'Bolts': 10,\n",
              " 'Brass': 1,\n",
              " 'Bronze': 2,\n",
              " 'Brown': 1,\n",
              " 'Bugle': 3,\n",
              " 'Burgundy': 1,\n",
              " 'Button': 4,\n",
              " 'Cap': 5,\n",
              " 'Carbon': 1,\n",
              " 'Carriage': 2,\n",
              " 'Charcoal': 1,\n",
              " 'Coarse': 1,\n",
              " 'Color': 1,\n",
              " 'Crimson': 1,\n",
              " 'Cutting': 2,\n",
              " 'Deck': 2,\n",
              " 'Dome': 1,\n",
              " 'Dowel': 1,\n",
              " 'Drilling': 4,\n",
              " 'Drive': 5,\n",
              " 'Drywall': 5,\n",
              " 'External': 2,\n",
              " 'Fillister': 1,\n",
              " 'Fine': 1,\n",
              " 'Flange': 6,\n",
              " 'Flat': 7,\n",
              " 'Floorboard': 1,\n",
              " 'Forest': 1,\n",
              " 'Framing': 2,\n",
              " 'Fully': 2,\n",
              " 'Gray': 1,\n",
              " 'Green': 2,\n",
              " 'Hanger': 3,\n",
              " 'Head': 32,\n",
              " 'Hex': 5,\n",
              " 'HiLo': 1,\n",
              " 'Indented': 1,\n",
              " 'Internal': 2,\n",
              " 'Ivory': 1,\n",
              " 'Knurled': 1,\n",
              " 'Lag': 1,\n",
              " 'Laminating': 1,\n",
              " 'Lath': 1,\n",
              " 'Lobe': 5,\n",
              " 'Machine': 6,\n",
              " 'Masonry': 1,\n",
              " 'Metal': 4,\n",
              " 'Metric': 5,\n",
              " 'Modified': 2,\n",
              " 'No': 1,\n",
              " 'NonSerrated': 1,\n",
              " 'One': 2,\n",
              " 'Oval': 3,\n",
              " 'Oversize': 1,\n",
              " 'Pan': 7,\n",
              " 'Pancake': 2,\n",
              " 'Phillips': 8,\n",
              " 'Pin': 2,\n",
              " 'Plated': 1,\n",
              " 'Plow': 1,\n",
              " 'Proof': 6,\n",
              " 'Red': 2,\n",
              " 'Rod': 1,\n",
              " 'Roofing': 1,\n",
              " 'Round': 3,\n",
              " 'SEMS': 1,\n",
              " 'Sammy': 1,\n",
              " 'Screw': 32,\n",
              " 'Self': 4,\n",
              " 'Serrated': 2,\n",
              " 'Set': 3,\n",
              " 'Sheet': 4,\n",
              " 'Shoulder': 1,\n",
              " 'Sidewalk': 1,\n",
              " 'Silicon': 1,\n",
              " 'Silver': 1,\n",
              " 'SilverGray': 1,\n",
              " 'Slate': 1,\n",
              " 'Slotted': 5,\n",
              " 'Socket': 6,\n",
              " 'Spanner': 3,\n",
              " 'Square': 7,\n",
              " 'Stainless': 1,\n",
              " 'Star': 8,\n",
              " 'Steel': 4,\n",
              " 'Tamper': 6,\n",
              " 'Tan': 1,\n",
              " 'Tap': 1,\n",
              " 'Thread': 2,\n",
              " 'Threaded': 2,\n",
              " 'Thumb': 2,\n",
              " 'Timber': 1,\n",
              " 'Tool': 1,\n",
              " 'Torx': 3,\n",
              " 'Trim': 1,\n",
              " 'Truss': 10,\n",
              " 'Washer': 2,\n",
              " 'Way': 2,\n",
              " 'White': 1,\n",
              " 'Wood': 1,\n",
              " 'Yellow': 1,\n",
              " 'Zinc': 1,\n",
              " 'are': 2,\n",
              " 'with': 2}"
            ]
          },
          "metadata": {},
          "execution_count": 37
        }
      ]
    },
    {
      "cell_type": "markdown",
      "metadata": {
        "id": "fQDDh6MvtBI-"
      },
      "source": [
        "#### Tag list"
      ]
    },
    {
      "cell_type": "markdown",
      "metadata": {
        "id": "IxXgnt5EuHvQ"
      },
      "source": [
        "See also,\n",
        "- [Fasterner(wiki)](https://en.wikipedia.org/wiki/Fastener)\n",
        "- [Nuts(wiki)](https://en.wikipedia.org/wiki/Nut_(hardware))\n",
        "- [Wahser(wiki)](https://en.wikipedia.org/wiki/Washer_(hardware))\n",
        "- [Electrical cable(wiki)](https://en.wikipedia.org/wiki/Electrical_cable)"
      ]
    },
    {
      "cell_type": "markdown",
      "metadata": {
        "id": "BEaKkYnvhxI_"
      },
      "source": [
        "##### Components\n"
      ]
    },
    {
      "cell_type": "markdown",
      "metadata": {
        "id": "_nkqYe7khzhl"
      },
      "source": [
        "- accessories\n",
        "- caps\n",
        "- cables\n",
        "- connector\n",
        "- conduits\n",
        "- bolts\n",
        "- ducts\n",
        "- fully-threaded\n",
        "- image_seonsor\n",
        "- io_board\n",
        "- mount\n",
        "- nuts\n",
        "- pins\n",
        "- rings\n",
        "- screws\n",
        "- tape\n",
        "- tie\n",
        "- tools\n",
        "- washer\n",
        "- wire"
      ]
    },
    {
      "cell_type": "markdown",
      "metadata": {
        "id": "kL-fA4j_h2Rt"
      },
      "source": [
        "##### Materials\n"
      ]
    },
    {
      "cell_type": "markdown",
      "metadata": {
        "id": "qf-W9hmAh3pQ"
      },
      "source": [
        "- metal\n",
        "- nylon\n",
        "- plastic\n",
        "- celamic"
      ]
    },
    {
      "cell_type": "markdown",
      "metadata": {
        "id": "XmzADEO5h7gy"
      },
      "source": [
        "##### Shapes"
      ]
    },
    {
      "cell_type": "markdown",
      "metadata": {
        "id": "CIQ1Gdjoc6yT"
      },
      "source": [
        "- ac_servo\n",
        "- av_antenna\n",
        "- audio_video\n",
        "- branching\n",
        "- clinching\n",
        "- clip\n",
        "- crimp\n",
        "- cylindrical\n",
        "- display\n",
        "- domed\n",
        "- eye_screws\n",
        "- fiber_optic\n",
        "- flanged\n",
        "- flat\n",
        "- gauge\n",
        "- hex\n",
        "- high\n",
        "- inserts\n",
        "- knurled\n",
        "- lan\n",
        "- lock\n",
        "- machine_keys\n",
        "- micro\n",
        "- precise\n",
        "- printer\n",
        "- ps2\n",
        "- rectangular\n",
        "- rivet\n",
        "- rc232\n",
        "- scsi\n",
        "- slot\n",
        "- spacer\n",
        "- thumb_ornamental\n",
        "- usb\n",
        "- wing\n",
        "- weld"
      ]
    },
    {
      "cell_type": "markdown",
      "metadata": {
        "id": "vnAzLxXIMn6Y"
      },
      "source": [
        "## Codes"
      ]
    },
    {
      "cell_type": "markdown",
      "metadata": {
        "id": "ivxiBBlERXDA"
      },
      "source": [
        "### Using TF Hub for Transfer learning"
      ]
    },
    {
      "cell_type": "markdown",
      "metadata": {
        "id": "lwRcYPQIDfrQ"
      },
      "source": [
        "#### Prepare"
      ]
    },
    {
      "cell_type": "code",
      "metadata": {
        "id": "5GuPxojjDbSY"
      },
      "source": [
        "import numpy as np\n",
        "import time\n",
        "\n",
        "import PIL.Image as Image\n",
        "import matplotlib.pylab as plt\n",
        "\n",
        "import tensorflow as tf\n",
        "import tensorflow_hub as hub\n",
        "\n",
        "import datetime"
      ],
      "execution_count": 41,
      "outputs": []
    },
    {
      "cell_type": "code",
      "metadata": {
        "colab": {
          "base_uri": "https://localhost:8080/"
        },
        "id": "KlMroCbOLZfI",
        "outputId": "9c4f29fc-c972-43fa-add3-4e8a4740df94"
      },
      "source": [
        "print(\"Num GPUs Available: \", len(tf.config.experimental.list_physical_devices('GPU')))"
      ],
      "execution_count": 42,
      "outputs": [
        {
          "output_type": "stream",
          "name": "stdout",
          "text": [
            "Num GPUs Available:  1\n"
          ]
        }
      ]
    },
    {
      "cell_type": "code",
      "metadata": {
        "colab": {
          "base_uri": "https://localhost:8080/"
        },
        "id": "iVuQpUUSNP1H",
        "outputId": "6a99a959-2aa5-4bba-89dc-8acdd55600df"
      },
      "source": [
        "from tensorflow.python.client import device_lib\n",
        "print(device_lib.list_local_devices())"
      ],
      "execution_count": 43,
      "outputs": [
        {
          "output_type": "stream",
          "name": "stdout",
          "text": [
            "[name: \"/device:CPU:0\"\n",
            "device_type: \"CPU\"\n",
            "memory_limit: 268435456\n",
            "locality {\n",
            "}\n",
            "incarnation: 12428958699026417367\n",
            ", name: \"/device:GPU:0\"\n",
            "device_type: \"GPU\"\n",
            "memory_limit: 4853137408\n",
            "locality {\n",
            "  bus_id: 1\n",
            "  links {\n",
            "  }\n",
            "}\n",
            "incarnation: 15299635210368823934\n",
            "physical_device_desc: \"device: 0, name: NVIDIA GeForce GTX 1060 6GB, pci bus id: 0000:01:00.0, compute capability: 6.1\"\n",
            "]\n"
          ]
        }
      ]
    },
    {
      "cell_type": "code",
      "metadata": {
        "id": "wSl4RE2CGhGD"
      },
      "source": [
        "# Download classification\n",
        "# classifier_url = \"https://tfhub.dev/google/imagenet/resnet_v2_152/classification/5\" # ResNet-152\n",
        "# classifier_url = \"https://tfhub.dev/google/imagenet/efficientnet_v2_imagenet1k_b0/classification/2\" # EfficientNet V2\n",
        "\n",
        "mobilenet_v2 =\"https://tfhub.dev/google/tf2-preview/mobilenet_v2/classification/4\"\n",
        "inception_v3 = \"https://tfhub.dev/google/imagenet/inception_v3/classification/5\"\n",
        "\n",
        "# classifier_model = mobilenet_v2"
      ],
      "execution_count": 71,
      "outputs": []
    },
    {
      "cell_type": "code",
      "metadata": {
        "id": "bOleIruAGwt9"
      },
      "source": [
        "IMAGE_SHAPE = (224, 224)\n",
        "\n",
        "classifier = tf.keras.Sequential([\n",
        "    hub.KerasLayer(mobilenet_v2, input_shape=IMAGE_SHAPE+(3,))\n",
        "])"
      ],
      "execution_count": null,
      "outputs": []
    },
    {
      "cell_type": "markdown",
      "metadata": {
        "id": "krLUTDwgHLeM"
      },
      "source": [
        "#### Execute one image file"
      ]
    },
    {
      "cell_type": "code",
      "metadata": {
        "colab": {
          "base_uri": "https://localhost:8080/",
          "height": 241
        },
        "id": "yY_l5p4YG7lx",
        "outputId": "394973b6-2f9f-491c-beac-0d761dae43ae"
      },
      "source": [
        "import numpy as np\n",
        "import PIL.Image as Image\n",
        "\n",
        "# grace_hopper = tf.keras.utils.get_file('image.jpg','https://storage.googleapis.com/download.tensorflow.org/example_images/grace_hopper.jpg')\n",
        "# grace_hopper = Image.open(grace_hopper).resize(IMAGE_SHAPE)\n",
        "# grace_hopper = Image.open(\"./inputs/misumi_dataset/ac_servo_motor_cables/000001.jpg\").resize(IMAGE_SHAPE)\n",
        "grace_hopper = Image.open(\"./inputs/fasteners/screw/000001.jpg\").resize(IMAGE_SHAPE)\n",
        "grace_hopper"
      ],
      "execution_count": null,
      "outputs": [
        {
          "output_type": "execute_result",
          "data": {
            "text/plain": [
              "<PIL.Image.Image image mode=RGB size=224x224 at 0x173B0DC5640>"
            ],
            "image/png": "[encoded data removed]"
          },
          "metadata": {},
          "execution_count": 4
        }
      ]
    },
    {
      "cell_type": "code",
      "metadata": {
        "colab": {
          "base_uri": "https://localhost:8080/"
        },
        "id": "e9EMYru_G_Wn",
        "outputId": "23b2f843-fe3d-4809-9af4-866747cdb397"
      },
      "source": [
        "# Get batch dimension and input image to model.\n",
        "grace_hopper = np.array(grace_hopper)/255.0\n",
        "grace_hopper.shape"
      ],
      "execution_count": null,
      "outputs": [
        {
          "output_type": "execute_result",
          "data": {
            "text/plain": [
              "(224, 224, 3)"
            ]
          },
          "metadata": {},
          "execution_count": 5
        }
      ]
    },
    {
      "cell_type": "code",
      "metadata": {
        "colab": {
          "base_uri": "https://localhost:8080/"
        },
        "id": "rH-4VugTHBNc",
        "outputId": "41e55fcf-b8e4-4842-aaaf-b954fbf83a22"
      },
      "source": [
        "result = classifier.predict(grace_hopper[np.newaxis, ...])\n",
        "result.shape"
      ],
      "execution_count": null,
      "outputs": [
        {
          "output_type": "execute_result",
          "data": {
            "text/plain": [
              "(1, 1001)"
            ]
          },
          "metadata": {},
          "execution_count": 6
        }
      ]
    },
    {
      "cell_type": "code",
      "metadata": {
        "colab": {
          "base_uri": "https://localhost:8080/"
        },
        "id": "rmzER84wHDPK",
        "outputId": "74cfd050-299a-41e2-f01b-58d28f39eea2"
      },
      "source": [
        "predicted_class = tf.math.argmax(result[0], axis=-1)\n",
        "predicted_class"
      ],
      "execution_count": null,
      "outputs": [
        {
          "output_type": "execute_result",
          "data": {
            "text/plain": [
              "<tf.Tensor: shape=(), dtype=int64, numpy=513>"
            ]
          },
          "metadata": {},
          "execution_count": 7
        }
      ]
    },
    {
      "cell_type": "markdown",
      "metadata": {
        "id": "q0T88YGrHaZ3"
      },
      "source": [
        "#### Decode the predict result"
      ]
    },
    {
      "cell_type": "code",
      "metadata": {
        "id": "btEbMUzGHFaa"
      },
      "source": [
        "labels_path = tf.keras.utils.get_file('ImageNetLabels.txt','https://storage.googleapis.com/download.tensorflow.org/data/ImageNetLabels.txt')\n",
        "imagenet_labels = np.array(open(labels_path).read().splitlines())"
      ],
      "execution_count": null,
      "outputs": []
    },
    {
      "cell_type": "code",
      "metadata": {
        "colab": {
          "base_uri": "https://localhost:8080/",
          "height": 264
        },
        "id": "KHANwI82HHAA",
        "outputId": "7a4e6b0b-0191-4667-9dd8-19bdcffad19e"
      },
      "source": [
        "plt.imshow(grace_hopper)\n",
        "plt.axis('off')\n",
        "predicted_class_name = imagenet_labels[predicted_class]\n",
        "_ = plt.title(\"Prediction: \" + predicted_class_name.title())"
      ],
      "execution_count": null,
      "outputs": [
        {
          "output_type": "display_data",
          "data": {
            "text/plain": [
              "<Figure size 432x288 with 1 Axes>"
            ],
            "image/png": "[encoded data removed]"
          },
          "metadata": {
            "needs_background": "light"
          }
        }
      ]
    },
    {
      "cell_type": "code",
      "metadata": {
        "id": "zGm1I6gQHi5a"
      },
      "source": [
        "# data_root = tf.keras.utils.get_file(\n",
        "#   'flower_photos','https://storage.googleapis.com/download.tensorflow.org/example_images/flower_photos.tgz',\n",
        "#    untar=True)\n",
        "\n",
        "data_root = \"./inputs/fasteners\""
      ],
      "execution_count": null,
      "outputs": []
    },
    {
      "cell_type": "code",
      "metadata": {
        "colab": {
          "base_uri": "https://localhost:8080/",
          "height": 419
        },
        "id": "PTda4AO7sEzm",
        "outputId": "3eb0fae9-e871-4918-f93a-d44c509f0e95"
      },
      "source": [
        "import pandas as pd\n",
        "pd.read_csv('./inputs/fasteners/fasteners_label.csv').dropna(axis=1, how='all')"
      ],
      "execution_count": null,
      "outputs": [
        {
          "output_type": "execute_result",
          "data": {
            "text/plain": [
              "     directory    filename     tag1              tag2    tag3  \\\n",
              "0        screw  000000.jpg   Silver   Internal Square   Bugle   \n",
              "1        screw  000001.jpg   Silver   Internal Square   Bugle   \n",
              "2        screw  000002.jpg   Silver   Internal Square   Bugle   \n",
              "3        screw  000003.jpg     Blue          Phillips    Flat   \n",
              "4        screw  000004.jpg     Blue          Phillips    Flat   \n",
              "...        ...         ...      ...               ...     ...   \n",
              "4620       nut  000396.jpg      NaN               NaN     NaN   \n",
              "4621       nut  000397.jpg      NaN               NaN     NaN   \n",
              "4622       nut  000398.jpg      NaN               NaN     NaN   \n",
              "4623       nut  000399.jpg      NaN               NaN     NaN   \n",
              "4624       nut  000400.jpg      NaN               NaN     NaN   \n",
              "\n",
              "                  tag4             tag5     tag6 tag7 tag8  \n",
              "0      Stainless Steel       Deck Screw   Coarse  NaN  NaN  \n",
              "1      Stainless Steel       Deck Screw   Coarse  NaN  NaN  \n",
              "2      Stainless Steel       Deck Screw   Coarse  NaN  NaN  \n",
              "3         Carbon Steel   Masonry Anchor      NaN  NaN  NaN  \n",
              "4         Carbon Steel   Masonry Anchor      NaN  NaN  NaN  \n",
              "...                ...              ...      ...  ...  ...  \n",
              "4620               NaN              NaN      NaN  NaN  NaN  \n",
              "4621               NaN              NaN      NaN  NaN  NaN  \n",
              "4622               NaN              NaN      NaN  NaN  NaN  \n",
              "4623               NaN              NaN      NaN  NaN  NaN  \n",
              "4624               NaN              NaN      NaN  NaN  NaN  \n",
              "\n",
              "[4625 rows x 10 columns]"
            ],
            "text/html": [
              "<div>\n",
              "<style scoped>\n",
              "    .dataframe tbody tr th:only-of-type {\n",
              "        vertical-align: middle;\n",
              "    }\n",
              "\n",
              "    .dataframe tbody tr th {\n",
              "        vertical-align: top;\n",
              "    }\n",
              "\n",
              "    .dataframe thead th {\n",
              "        text-align: right;\n",
              "    }\n",
              "</style>\n",
              "<table border=\"1\" class=\"dataframe\">\n",
              "  <thead>\n",
              "    <tr style=\"text-align: right;\">\n",
              "      <th></th>\n",
              "      <th>directory</th>\n",
              "      <th>filename</th>\n",
              "      <th>tag1</th>\n",
              "      <th>tag2</th>\n",
              "      <th>tag3</th>\n",
              "      <th>tag4</th>\n",
              "      <th>tag5</th>\n",
              "      <th>tag6</th>\n",
              "      <th>tag7</th>\n",
              "      <th>tag8</th>\n",
              "    </tr>\n",
              "  </thead>\n",
              "  <tbody>\n",
              "    <tr>\n",
              "      <th>0</th>\n",
              "      <td>screw</td>\n",
              "      <td>000000.jpg</td>\n",
              "      <td>Silver</td>\n",
              "      <td>Internal Square</td>\n",
              "      <td>Bugle</td>\n",
              "      <td>Stainless Steel</td>\n",
              "      <td>Deck Screw</td>\n",
              "      <td>Coarse</td>\n",
              "      <td>NaN</td>\n",
              "      <td>NaN</td>\n",
              "    </tr>\n",
              "    <tr>\n",
              "      <th>1</th>\n",
              "      <td>screw</td>\n",
              "      <td>000001.jpg</td>\n",
              "      <td>Silver</td>\n",
              "      <td>Internal Square</td>\n",
              "      <td>Bugle</td>\n",
              "      <td>Stainless Steel</td>\n",
              "      <td>Deck Screw</td>\n",
              "      <td>Coarse</td>\n",
              "      <td>NaN</td>\n",
              "      <td>NaN</td>\n",
              "    </tr>\n",
              "    <tr>\n",
              "      <th>2</th>\n",
              "      <td>screw</td>\n",
              "      <td>000002.jpg</td>\n",
              "      <td>Silver</td>\n",
              "      <td>Internal Square</td>\n",
              "      <td>Bugle</td>\n",
              "      <td>Stainless Steel</td>\n",
              "      <td>Deck Screw</td>\n",
              "      <td>Coarse</td>\n",
              "      <td>NaN</td>\n",
              "      <td>NaN</td>\n",
              "    </tr>\n",
              "    <tr>\n",
              "      <th>3</th>\n",
              "      <td>screw</td>\n",
              "      <td>000003.jpg</td>\n",
              "      <td>Blue</td>\n",
              "      <td>Phillips</td>\n",
              "      <td>Flat</td>\n",
              "      <td>Carbon Steel</td>\n",
              "      <td>Masonry Anchor</td>\n",
              "      <td>NaN</td>\n",
              "      <td>NaN</td>\n",
              "      <td>NaN</td>\n",
              "    </tr>\n",
              "    <tr>\n",
              "      <th>4</th>\n",
              "      <td>screw</td>\n",
              "      <td>000004.jpg</td>\n",
              "      <td>Blue</td>\n",
              "      <td>Phillips</td>\n",
              "      <td>Flat</td>\n",
              "      <td>Carbon Steel</td>\n",
              "      <td>Masonry Anchor</td>\n",
              "      <td>NaN</td>\n",
              "      <td>NaN</td>\n",
              "      <td>NaN</td>\n",
              "    </tr>\n",
              "    <tr>\n",
              "      <th>...</th>\n",
              "      <td>...</td>\n",
              "      <td>...</td>\n",
              "      <td>...</td>\n",
              "      <td>...</td>\n",
              "      <td>...</td>\n",
              "      <td>...</td>\n",
              "      <td>...</td>\n",
              "      <td>...</td>\n",
              "      <td>...</td>\n",
              "      <td>...</td>\n",
              "    </tr>\n",
              "    <tr>\n",
              "      <th>4620</th>\n",
              "      <td>nut</td>\n",
              "      <td>000396.jpg</td>\n",
              "      <td>NaN</td>\n",
              "      <td>NaN</td>\n",
              "      <td>NaN</td>\n",
              "      <td>NaN</td>\n",
              "      <td>NaN</td>\n",
              "      <td>NaN</td>\n",
              "      <td>NaN</td>\n",
              "      <td>NaN</td>\n",
              "    </tr>\n",
              "    <tr>\n",
              "      <th>4621</th>\n",
              "      <td>nut</td>\n",
              "      <td>000397.jpg</td>\n",
              "      <td>NaN</td>\n",
              "      <td>NaN</td>\n",
              "      <td>NaN</td>\n",
              "      <td>NaN</td>\n",
              "      <td>NaN</td>\n",
              "      <td>NaN</td>\n",
              "      <td>NaN</td>\n",
              "      <td>NaN</td>\n",
              "    </tr>\n",
              "    <tr>\n",
              "      <th>4622</th>\n",
              "      <td>nut</td>\n",
              "      <td>000398.jpg</td>\n",
              "      <td>NaN</td>\n",
              "      <td>NaN</td>\n",
              "      <td>NaN</td>\n",
              "      <td>NaN</td>\n",
              "      <td>NaN</td>\n",
              "      <td>NaN</td>\n",
              "      <td>NaN</td>\n",
              "      <td>NaN</td>\n",
              "    </tr>\n",
              "    <tr>\n",
              "      <th>4623</th>\n",
              "      <td>nut</td>\n",
              "      <td>000399.jpg</td>\n",
              "      <td>NaN</td>\n",
              "      <td>NaN</td>\n",
              "      <td>NaN</td>\n",
              "      <td>NaN</td>\n",
              "      <td>NaN</td>\n",
              "      <td>NaN</td>\n",
              "      <td>NaN</td>\n",
              "      <td>NaN</td>\n",
              "    </tr>\n",
              "    <tr>\n",
              "      <th>4624</th>\n",
              "      <td>nut</td>\n",
              "      <td>000400.jpg</td>\n",
              "      <td>NaN</td>\n",
              "      <td>NaN</td>\n",
              "      <td>NaN</td>\n",
              "      <td>NaN</td>\n",
              "      <td>NaN</td>\n",
              "      <td>NaN</td>\n",
              "      <td>NaN</td>\n",
              "      <td>NaN</td>\n",
              "    </tr>\n",
              "  </tbody>\n",
              "</table>\n",
              "<p>4625 rows × 10 columns</p>\n",
              "</div>"
            ]
          },
          "metadata": {},
          "execution_count": 9
        }
      ]
    },
    {
      "cell_type": "code",
      "metadata": {
        "id": "c_rVX2oJ_TVA"
      },
      "source": [
        "import pandas as pd\n",
        "from sklearn.preprocessing import MultiLabelBinarizer\n",
        "mlb = MultiLabelBinarizer()\n",
        "\n",
        "df = pd.read_csv('./inputs/fasteners/fasteners_label.csv')\n",
        "df = df.dropna(axis=1, how='all') # save memory and process usage\n",
        "\n",
        "result = mlb.fit_transform(df.fillna('None').drop(columns=['directory', 'filename']).values) # drop not tagging cols\n",
        "\n",
        "bin_df = pd.DataFrame(result, columns=mlb.classes_) # drop non-useless col."
      ],
      "execution_count": null,
      "outputs": []
    },
    {
      "cell_type": "code",
      "metadata": {
        "colab": {
          "base_uri": "https://localhost:8080/"
        },
        "id": "9AZcmsXC_gw9",
        "outputId": "128c2520-abaa-4960-d1ed-ab81fbed57ee"
      },
      "source": [
        "labels = bin_df.columns\n",
        "labels"
      ],
      "execution_count": null,
      "outputs": [
        {
          "output_type": "execute_result",
          "data": {
            "text/plain": [
              "Index([' 1022 Carbon Steel', ' 18-8 Stainless Steel', ' Acorn', ' Acorn Nut',\n",
              "       ' Aluminum', ' Beveled Square Washer', ' Binding', ' Black', ' Blue',\n",
              "       ' Brass',\n",
              "       ...\n",
              "       ' Well Nut', ' White', ' Wing Nut', ' Wood Screw', ' Yellow', ' Zinc',\n",
              "       ' Zinc Plated Steel', 'Hex', 'Internal Square', 'None'],\n",
              "      dtype='object', length=224)"
            ]
          },
          "metadata": {},
          "execution_count": 11
        }
      ]
    },
    {
      "cell_type": "code",
      "metadata": {
        "colab": {
          "base_uri": "https://localhost:8080/",
          "height": 241
        },
        "id": "I5BVjG3A_8jq",
        "outputId": "e2b8ec2f-8158-4df6-9b8e-24466439bb77"
      },
      "source": [
        "import os\n",
        "Image.open(os.path.join(data_root, df['directory'][0], df.filename[0])).resize(IMAGE_SHAPE)"
      ],
      "execution_count": null,
      "outputs": [
        {
          "output_type": "execute_result",
          "data": {
            "text/plain": [
              "<PIL.Image.Image image mode=RGB size=224x224 at 0x17535216BB0>"
            ],
            "image/png": "[encoded data removed]"
          },
          "metadata": {},
          "execution_count": 12
        }
      ]
    },
    {
      "cell_type": "code",
      "metadata": {
        "id": "lrEGiLahA0K8"
      },
      "source": [
        "image_list = [os.path.join(data_root, row.directory, row.filename) for row in df.loc[:, 'directory':'filename'].itertuples()]"
      ],
      "execution_count": null,
      "outputs": []
    },
    {
      "cell_type": "code",
      "metadata": {
        "id": "-_eBko1abfhC"
      },
      "source": [
        "data = []\n",
        "for image_path in image_list:\n",
        "    img = tf.image.decode_jpeg(tf.io.read_file(image_path), channels=3)\n",
        "    img = tf.image.convert_image_dtype(img, tf.float32)\n",
        "    data.append(tf.image.resize(img, IMAGE_SHAPE))"
      ],
      "execution_count": null,
      "outputs": []
    },
    {
      "cell_type": "code",
      "metadata": {
        "id": "X--7Q71Jd2eC"
      },
      "source": [
        "data = np.array(data, dtype=\"float\")/255"
      ],
      "execution_count": null,
      "outputs": []
    },
    {
      "cell_type": "code",
      "metadata": {
        "id": "kJAbMSeybF8v"
      },
      "source": [
        "from sklearn.model_selection import train_test_split\n",
        "trainX, valX, trainY, valY = train_test_split(data, bin_df.to_numpy(), test_size=0.2, random_state=42)"
      ],
      "execution_count": null,
      "outputs": []
    },
    {
      "cell_type": "code",
      "metadata": {
        "id": "4Ui_qtjdcFXQ"
      },
      "source": [
        "from tensorflow.keras.preprocessing.image import ImageDataGenerator\n",
        "aug = ImageDataGenerator(\n",
        "    rotation_range=25,\n",
        "    width_shift_range=0.1,\n",
        "    height_shift_range=0.1,\n",
        "    shear_range=0.2,\n",
        "    zoom_range=0.2,\n",
        "    horizontal_flip=True,\n",
        "    fill_mode='nearest'\n",
        ")"
      ],
      "execution_count": null,
      "outputs": []
    },
    {
      "cell_type": "code",
      "metadata": {
        "colab": {
          "base_uri": "https://localhost:8080/"
        },
        "id": "0joCj0dHHkRp",
        "outputId": "4f545178-decd-42b1-cea2-bab2433231c4"
      },
      "source": [
        "batch_size = 32\n",
        "img_height = 224\n",
        "img_width = 224\n",
        "\n",
        "train_ds = tf.keras.utils.image_dataset_from_directory(\n",
        "  str(data_root),\n",
        "  validation_split=0.2,\n",
        "  subset=\"training\",\n",
        "  seed=123,\n",
        "  image_size=(img_height, img_width),\n",
        "  batch_size=batch_size\n",
        ")\n",
        "\n",
        "val_ds = tf.keras.preprocessing.image_dataset_from_directory(\n",
        "  str(data_root),\n",
        "  validation_split=0.2,\n",
        "  subset=\"validation\",\n",
        "  seed=123,\n",
        "  image_size=(img_height, img_width),\n",
        "  batch_size=batch_size\n",
        ")"
      ],
      "execution_count": null,
      "outputs": [
        {
          "output_type": "stream",
          "name": "stdout",
          "text": [
            "Found 4625 files belonging to 3 classes.\n",
            "Using 3700 files for training.\n",
            "Found 4625 files belonging to 3 classes.\n",
            "Using 925 files for validation.\n"
          ]
        }
      ]
    },
    {
      "cell_type": "code",
      "metadata": {
        "id": "pqmdBvyZcz5e",
        "colab": {
          "base_uri": "https://localhost:8080/"
        },
        "outputId": "095400ad-5c4e-4349-b7ad-85a8b48dcd87"
      },
      "source": [
        "class_names = np.array(train_ds.class_names)\n",
        "print(f\"This datasets has {len(class_names)} classes.\")"
      ],
      "execution_count": null,
      "outputs": [
        {
          "output_type": "stream",
          "name": "stdout",
          "text": [
            "This datasets has 3 classes.\n"
          ]
        }
      ]
    },
    {
      "cell_type": "code",
      "metadata": {
        "id": "NPkXXRXCHogW"
      },
      "source": [
        "# add normalization layer\n",
        "normalization_layer = tf.keras.layers.Rescaling(1./255)\n",
        "train_ds = train_ds.map(lambda x, y: (normalization_layer(x), y)) # Where x—images, y—labels.\n",
        "val_ds = val_ds.map(lambda x, y: (normalization_layer(x), y)) # Where x—images, y—labels."
      ],
      "execution_count": null,
      "outputs": []
    },
    {
      "cell_type": "code",
      "metadata": {
        "id": "mraYLkcic5Pl"
      },
      "source": [
        "# avoid I/O blocking issues\n",
        "AUTOTUNE = tf.data.AUTOTUNE\n",
        "train_ds = train_ds.cache().prefetch(buffer_size=AUTOTUNE)\n",
        "val_ds = val_ds.cache().prefetch(buffer_size=AUTOTUNE)"
      ],
      "execution_count": null,
      "outputs": []
    },
    {
      "cell_type": "code",
      "metadata": {
        "id": "dggpmKpmc6KT",
        "colab": {
          "base_uri": "https://localhost:8080/"
        },
        "outputId": "18bd06de-9d67-40f4-a336-b148ee7d7033"
      },
      "source": [
        "for image_batch, labels_batch in train_ds:\n",
        "  print(image_batch.shape)\n",
        "  print(labels_batch.shape)\n",
        "  break"
      ],
      "execution_count": null,
      "outputs": [
        {
          "output_type": "stream",
          "name": "stdout",
          "text": [
            "(32, 224, 224, 3)\n",
            "(32,)\n"
          ]
        }
      ]
    },
    {
      "cell_type": "markdown",
      "metadata": {
        "id": "KQS5ZL43Hq7a"
      },
      "source": [
        "#### Download headless model"
      ]
    },
    {
      "cell_type": "code",
      "metadata": {
        "id": "BSgyB6Zgee9Y"
      },
      "source": [
        "mobilenet_v2 = \"https://tfhub.dev/google/tf2-preview/mobilenet_v2/feature_vector/4\"\n",
        "inception_v3 = \"https://tfhub.dev/google/tf2-preview/inception_v3/feature_vector/4\"\n",
        "effienct_v2 = \"https://tfhub.dev/google/imagenet/efficientnet_v2_imagenet21k_ft1k_s/classification/2\"\n",
        "\n",
        "feature_extractor_model = mobilenet_v2"
      ],
      "execution_count": null,
      "outputs": []
    },
    {
      "cell_type": "code",
      "metadata": {
        "id": "fwcOOVK4efyt"
      },
      "source": [
        "feature_extractor_layer = hub.KerasLayer(\n",
        "    feature_extractor_model,\n",
        "    input_shape=(224, 224, 3),\n",
        "    trainable=False\n",
        ")"
      ],
      "execution_count": null,
      "outputs": []
    },
    {
      "cell_type": "code",
      "metadata": {
        "id": "PO9LJPfHejBy"
      },
      "source": [
        "feature_batch = feature_extractor_layer(image_batch)\n",
        "print(feature_batch.shape)"
      ],
      "execution_count": null,
      "outputs": []
    },
    {
      "cell_type": "markdown",
      "metadata": {
        "id": "Rd-rkanZetyk"
      },
      "source": [
        "#### Attach a classification head"
      ]
    },
    {
      "cell_type": "code",
      "metadata": {
        "colab": {
          "base_uri": "https://localhost:8080/"
        },
        "id": "SrVuZOBRgb5a",
        "outputId": "c2460f7f-6559-4468-8151-c84605780f56"
      },
      "source": [
        "len(bin_df.to_numpy())"
      ],
      "execution_count": null,
      "outputs": [
        {
          "output_type": "execute_result",
          "data": {
            "text/plain": [
              "4625"
            ]
          },
          "metadata": {},
          "execution_count": 106
        }
      ]
    },
    {
      "cell_type": "code",
      "metadata": {
        "id": "G_Y1KiP2ekrQ"
      },
      "source": [
        "num_classes = bin_df.to_numpy().shape[1]\n",
        "\n",
        "model = tf.keras.Sequential([\n",
        "    tf.keras.layers.InputLayer(input_shape=IMAGE_SHAPE+(3,)),\n",
        "    feature_extractor_layer,\n",
        "    tf.keras.layers.Dropout(0.3),\n",
        "    tf.keras.layers.Dense(num_classes, activation='relu'),\n",
        "    tf.keras.layers.Dropout(0.3),\n",
        "    tf.keras.layers.Dense(num_classes, activation='sigmoid')\n",
        "])\n",
        "model.build((None,)+IMAGE_SHAPE+(3,))"
      ],
      "execution_count": null,
      "outputs": []
    },
    {
      "cell_type": "code",
      "metadata": {
        "id": "5GpIJlYEeoau",
        "colab": {
          "base_uri": "https://localhost:8080/"
        },
        "outputId": "d1f20aa6-fb7f-4447-f049-c1efbb4dada1"
      },
      "source": [
        "predictions = model(image_batch)\n",
        "predictions.shape"
      ],
      "execution_count": null,
      "outputs": [
        {
          "output_type": "execute_result",
          "data": {
            "text/plain": [
              "TensorShape([32, 3])"
            ]
          },
          "metadata": {},
          "execution_count": 35
        }
      ]
    },
    {
      "cell_type": "markdown",
      "metadata": {
        "id": "M_AXIPB-e2dC"
      },
      "source": [
        "#### Train model"
      ]
    },
    {
      "cell_type": "code",
      "metadata": {
        "id": "r6q9UUVFe4Qt",
        "colab": {
          "base_uri": "https://localhost:8080/"
        },
        "outputId": "fa29e338-506f-41e3-d41f-3880f37af077"
      },
      "source": [
        "model.compile(\n",
        "  optimizer=tf.keras.optimizers.Nadam(learning_rate=0.0005),\n",
        "  loss=tf.keras.losses.BinaryCrossentropy(),\n",
        "  metrics=[tf.keras.metrics.BinaryAccuracy()])\n",
        "model.summary()"
      ],
      "execution_count": null,
      "outputs": [
        {
          "output_type": "stream",
          "name": "stdout",
          "text": [
            "Model: \"sequential_1\"\n",
            "_________________________________________________________________\n",
            "Layer (type)                 Output Shape              Param #   \n",
            "=================================================================\n",
            "keras_layer_1 (KerasLayer)   (None, 1280)              2257984   \n",
            "_________________________________________________________________\n",
            "dropout (Dropout)            (None, 1280)              0         \n",
            "_________________________________________________________________\n",
            "dense (Dense)                (None, 224)               286944    \n",
            "_________________________________________________________________\n",
            "dropout_1 (Dropout)          (None, 224)               0         \n",
            "_________________________________________________________________\n",
            "dense_1 (Dense)              (None, 224)               50400     \n",
            "=================================================================\n",
            "Total params: 2,595,328\n",
            "Trainable params: 337,344\n",
            "Non-trainable params: 2,257,984\n",
            "_________________________________________________________________\n"
          ]
        }
      ]
    },
    {
      "cell_type": "code",
      "metadata": {
        "colab": {
          "base_uri": "https://localhost:8080/"
        },
        "id": "rUDSFGqudgAd",
        "outputId": "4f143d16-249e-4e49-fff4-c400c9108f01"
      },
      "source": [
        "print(trainX.shape)\n",
        "print(trainY.shape)"
      ],
      "execution_count": null,
      "outputs": [
        {
          "output_type": "stream",
          "name": "stdout",
          "text": [
            "(3700, 224, 224, 3)\n",
            "(3700, 224)\n"
          ]
        }
      ]
    },
    {
      "cell_type": "code",
      "metadata": {
        "id": "qEnuNVrRe6HL",
        "colab": {
          "base_uri": "https://localhost:8080/"
        },
        "outputId": "b58b74c3-5503-41b0-8b6d-198eeda4c25b"
      },
      "source": [
        "NUM_EPOCHS = 50\n",
        "\n",
        "early_stopping = tf.keras.callbacks.EarlyStopping(\n",
        "    monitor='val_loss', min_delta=0.001, patience=3\n",
        ")\n",
        "\n",
        "history = model.fit(x=aug.flow(trainX, trainY, batch_size=32),\n",
        "                    validation_data=(valX, valY),\n",
        "                    epochs=NUM_EPOCHS,\n",
        "                    steps_per_epoch=len(trainX) // 32,\n",
        "                    verbose=1,\n",
        "                    callbacks=[early_stopping])"
      ],
      "execution_count": null,
      "outputs": [
        {
          "output_type": "stream",
          "name": "stdout",
          "text": [
            "Epoch 1/50\n",
            "115/115 [==============================] - 39s 293ms/step - loss: 0.1482 - binary_accuracy: 0.9434 - val_loss: 0.0666 - val_binary_accuracy: 0.9803\n",
            "Epoch 2/50\n",
            "115/115 [==============================] - 32s 279ms/step - loss: 0.0748 - binary_accuracy: 0.9781 - val_loss: 0.0664 - val_binary_accuracy: 0.9803\n",
            "Epoch 3/50\n",
            "115/115 [==============================] - 33s 290ms/step - loss: 0.0720 - binary_accuracy: 0.9788 - val_loss: 0.0659 - val_binary_accuracy: 0.9803\n",
            "Epoch 4/50\n",
            "115/115 [==============================] - 32s 279ms/step - loss: 0.0703 - binary_accuracy: 0.9791 - val_loss: 0.0658 - val_binary_accuracy: 0.9803\n"
          ]
        }
      ]
    },
    {
      "cell_type": "code",
      "metadata": {
        "id": "lykmLeEhi_GC"
      },
      "source": [
        "predictions = model.predict(valX)"
      ],
      "execution_count": null,
      "outputs": []
    },
    {
      "cell_type": "markdown",
      "metadata": {
        "id": "RLx3qy3efqba"
      },
      "source": [
        "#### Visualization of model training history"
      ]
    },
    {
      "cell_type": "code",
      "metadata": {
        "id": "WZxkILe9fo2J"
      },
      "source": [
        "acc = history.history['acc']\n",
        "val_acc = history.history['val_acc']\n",
        "\n",
        "loss = history.history['loss']\n",
        "val_loss = history.history['val_loss']\n",
        "\n",
        "plt.figure(figsize=(8, 8))\n",
        "plt.subplot(2, 1, 1)\n",
        "plt.plot(acc, label='Training Accuracy')\n",
        "plt.plot(val_acc, label='Validation Accuracy')\n",
        "plt.legend(loc='lower right')\n",
        "plt.ylabel('Accuracy')\n",
        "plt.ylim([min(plt.ylim()),1])\n",
        "plt.title('Training and Validation Accuracy')\n",
        "\n",
        "plt.subplot(2, 1, 2)\n",
        "plt.plot(loss, label='Training Loss')\n",
        "plt.plot(val_loss, label='Validation Loss')\n",
        "plt.legend(loc='upper right')\n",
        "plt.ylabel('Cross Entropy')\n",
        "plt.ylim([0,2.0])\n",
        "plt.title('Training and Validation Loss')\n",
        "plt.xlabel('epoch')\n",
        "plt.show()"
      ],
      "execution_count": null,
      "outputs": []
    },
    {
      "cell_type": "markdown",
      "metadata": {
        "id": "Ruo_hDe8fwdc"
      },
      "source": [
        "#### Result"
      ]
    },
    {
      "cell_type": "code",
      "metadata": {
        "id": "1wvZO-zEfyEI"
      },
      "source": [
        "from textwrap import wrap\n",
        "plt.figure(figsize=(10,9))\n",
        "plt.subplots_adjust(hspace=0.5)\n",
        "\n",
        "for n in range(30):\n",
        "  plt.subplot(6,5,n+1)\n",
        "  plt.imshow(image_batch[n])\n",
        "  color = \"green\" if predicted_id[n].numpy() == labels_batch[n].numpy() else \"red\"\n",
        "  plt.title('\\n'.join(wrap(predicted_label_batch[n].title(), 15)), color=color, fontsize=10)\n",
        "  plt.axis('off')\n",
        "_ = plt.suptitle(\"Model predictions\")"
      ],
      "execution_count": null,
      "outputs": []
    },
    {
      "cell_type": "markdown",
      "metadata": {
        "id": "7ApAFc7-Ifzi"
      },
      "source": [
        "#### Export model"
      ]
    },
    {
      "cell_type": "code",
      "metadata": {
        "id": "wJcXVCAIIiJU",
        "colab": {
          "base_uri": "https://localhost:8080/"
        },
        "outputId": "3839499c-c118-4887-b56b-8ec46b6efc1f"
      },
      "source": [
        "from datetime import date\n",
        "\n",
        "export_path = f\"./models/{date.today().isoformat()}_{str(int(time.time()))}\"\n",
        "model.save(export_path, save_format='tf')\n",
        "\n",
        "export_path"
      ],
      "execution_count": null,
      "outputs": [
        {
          "output_type": "stream",
          "name": "stdout",
          "text": [
            "INFO:tensorflow:Assets written to: ./models/2021-10-26_1635176309\\assets\n"
          ]
        },
        {
          "output_type": "execute_result",
          "data": {
            "text/plain": [
              "'./models/2021-10-26_1635176309'"
            ]
          },
          "metadata": {},
          "execution_count": 348
        }
      ]
    },
    {
      "cell_type": "code",
      "metadata": {
        "id": "h9f4utMoy-NN",
        "colab": {
          "base_uri": "https://localhost:8080/"
        },
        "outputId": "3521aecc-8fdb-40ff-8a25-fd2325d2294a"
      },
      "source": [
        "# import os\n",
        "# # os.listdir(\"./models/\")\n",
        "# print(len(next(os.walk('./models/'))[1]))"
      ],
      "execution_count": null,
      "outputs": [
        {
          "output_type": "stream",
          "name": "stdout",
          "text": [
            "2\n"
          ]
        }
      ]
    },
    {
      "cell_type": "code",
      "metadata": {
        "id": "GOgb53XCIkNc"
      },
      "source": [
        "# reloaded = tf.keras.models.load_model(export_path)"
      ],
      "execution_count": null,
      "outputs": []
    },
    {
      "cell_type": "code",
      "metadata": {
        "id": "F4s5QvM1IkuI"
      },
      "source": [
        "# result_batch = model.predict(image_batch)\n",
        "# reloaded_result_batch = reloaded.predict(image_batch)"
      ],
      "execution_count": null,
      "outputs": []
    },
    {
      "cell_type": "code",
      "metadata": {
        "id": "YcvDw0b5Ino0"
      },
      "source": [
        "# abs(reloaded_result_batch - result_batch).max()"
      ],
      "execution_count": null,
      "outputs": []
    },
    {
      "cell_type": "markdown",
      "metadata": {
        "id": "ySsZl2KpL2AJ"
      },
      "source": [
        "# Multi Label"
      ]
    },
    {
      "cell_type": "code",
      "metadata": {
        "colab": {
          "base_uri": "https://localhost:8080/"
        },
        "id": "XlbgkX9oL4Er",
        "outputId": "a9f57c33-7175-48f2-e66c-7fc525f4fb32"
      },
      "source": [
        "LABELS = bin_df.columns[2:].to_list()\n",
        "LABELS[:5]"
      ],
      "execution_count": 44,
      "outputs": [
        {
          "output_type": "execute_result",
          "data": {
            "text/plain": [
              "['(with Pin)', 'Allen', 'Aluminum', 'Binding', 'Black']"
            ]
          },
          "metadata": {},
          "execution_count": 44
        }
      ]
    },
    {
      "cell_type": "code",
      "metadata": {
        "id": "DPFJED7TMCUv"
      },
      "source": [
        "import glob, os\n",
        "data_dir = \"./inputs/fasteners/screw\"\n",
        "filenames = glob.glob(os.path.join(data_dir, \"*.jpg\"))"
      ],
      "execution_count": 45,
      "outputs": []
    },
    {
      "cell_type": "code",
      "metadata": {
        "colab": {
          "base_uri": "https://localhost:8080/"
        },
        "id": "ppF6_0UNMZ9-",
        "outputId": "7612e7fb-003e-4bb2-df21-4d785adcdb4d"
      },
      "source": [
        "ds_size = len(filenames)\n",
        "print(\"Number of images in folders: \", ds_size)\n",
        "\n",
        "number_of_selected_samples = 3798\n",
        "filelist_ds = tf.data.Dataset.from_tensor_slices(filenames[:number_of_selected_samples])\n",
        "\n",
        "ds_size=filelist_ds.cardinality().numpy()\n",
        "print(\"Number of selected samples for dataset: \", ds_size)"
      ],
      "execution_count": 46,
      "outputs": [
        {
          "output_type": "stream",
          "name": "stdout",
          "text": [
            "Number of images in folders:  3798\n",
            "Number of selected samples for dataset:  3798\n"
          ]
        }
      ]
    },
    {
      "cell_type": "code",
      "metadata": {
        "colab": {
          "base_uri": "https://localhost:8080/"
        },
        "id": "pXjotxJvM48O",
        "outputId": "1f72ead9-d4d3-45ec-e35f-778d2bf66a4c"
      },
      "source": [
        "filenames[:5]"
      ],
      "execution_count": 47,
      "outputs": [
        {
          "output_type": "execute_result",
          "data": {
            "text/plain": [
              "['./inputs/fasteners/screw\\\\000000.jpg',\n",
              " './inputs/fasteners/screw\\\\000001.jpg',\n",
              " './inputs/fasteners/screw\\\\000002.jpg',\n",
              " './inputs/fasteners/screw\\\\000003.jpg',\n",
              " './inputs/fasteners/screw\\\\000004.jpg']"
            ]
          },
          "metadata": {},
          "execution_count": 47
        }
      ]
    },
    {
      "cell_type": "code",
      "metadata": {
        "id": "t6aEYgmHMzQC"
      },
      "source": [
        "def get_label(file_path):\n",
        "  parts = tf.strings.split(file_path, os.path.sep)\n",
        "  file_name= parts[-1]\n",
        "#   labels= bin_df[bin_df[\"filename\"]==file_name][LABELS].to_numpy().squeeze()\n",
        "  return tf.squeeze(bin_df[bin_df['filename']==file_name][LABELS])"
      ],
      "execution_count": 48,
      "outputs": []
    },
    {
      "cell_type": "code",
      "metadata": {
        "id": "FN_C00syNALq"
      },
      "source": [
        "IMG_WIDTH, IMG_HEIGHT = 64 , 64\n",
        "def decode_img(img):\n",
        "  #color images\n",
        "  img = tf.image.decode_jpeg(img, channels=3) \n",
        "  #convert unit8 tensor to floats in the [0,1]range\n",
        "  img = tf.image.convert_image_dtype(img, tf.float32) \n",
        "  #resize \n",
        "  return tf.image.resize(img, [IMG_WIDTH, IMG_HEIGHT])"
      ],
      "execution_count": 49,
      "outputs": []
    },
    {
      "cell_type": "code",
      "metadata": {
        "id": "sWS1D4rLNBzs"
      },
      "source": [
        "def combine_images_labels(file_path: tf.Tensor):\n",
        "  label = get_label(file_path)\n",
        "  label = tf.cast(label, tf.int64)\n",
        "  img = tf.io.read_file(file_path)\n",
        "  img = decode_img(img)\n",
        "  return img, label"
      ],
      "execution_count": 50,
      "outputs": []
    },
    {
      "cell_type": "code",
      "metadata": {
        "id": "Tp5hveH9NDQR"
      },
      "source": [
        "train_ratio = 0.80\n",
        "ds_train=filelist_ds.take(ds_size*train_ratio)\n",
        "ds_test=filelist_ds.skip(ds_size*train_ratio)"
      ],
      "execution_count": 51,
      "outputs": []
    },
    {
      "cell_type": "code",
      "metadata": {
        "id": "yQJ-X3xvNFGT"
      },
      "source": [
        "BATCH_SIZE = 64"
      ],
      "execution_count": 52,
      "outputs": []
    },
    {
      "cell_type": "code",
      "metadata": {
        "id": "xVtKEicLNHbA"
      },
      "source": [
        "ds_train=ds_train.map(lambda x: tf.py_function(func=combine_images_labels,\n",
        "          inp=[x], Tout=(tf.float32,tf.int64)),\n",
        "          num_parallel_calls=tf.data.AUTOTUNE,\n",
        "          deterministic=False)"
      ],
      "execution_count": 53,
      "outputs": []
    },
    {
      "cell_type": "code",
      "metadata": {
        "id": "m0plSlXJNJPw"
      },
      "source": [
        "ds_test= ds_test.map(lambda x: tf.py_function(func=combine_images_labels,\n",
        "          inp=[x], Tout=(tf.float32,tf.int64)),\n",
        "          num_parallel_calls=tf.data.AUTOTUNE,\n",
        "          deterministic=False)"
      ],
      "execution_count": 54,
      "outputs": []
    },
    {
      "cell_type": "code",
      "metadata": {
        "id": "9XtpdnSnNK6-"
      },
      "source": [
        "def covert_onehot_string_labels(label_string,label_onehot):\n",
        "  labels=[]\n",
        "  for i, label in  enumerate(label_string):\n",
        "     if label_onehot[i]:\n",
        "       labels.append(label)\n",
        "  if len(labels)==0:\n",
        "    labels.append(\"NONE\")\n",
        "  return labels"
      ],
      "execution_count": 55,
      "outputs": []
    },
    {
      "cell_type": "code",
      "metadata": {
        "colab": {
          "base_uri": "https://localhost:8080/",
          "height": 1000
        },
        "id": "LbIre1ssNOVZ",
        "outputId": "1efa018c-b096-4b37-f95c-ec11f4fb6094"
      },
      "source": [
        "from textwrap import wrap\n",
        "\n",
        "def show_samples(dataset):\n",
        "  plt.subplots_adjust(hspace=2.5)\n",
        "  fig=plt.figure(figsize=(16, 16))\n",
        "  columns = 3\n",
        "  rows = 3\n",
        "  print(columns*rows,\"samples from the dataset\")\n",
        "  i=1\n",
        "  for a,b in dataset.take(columns*rows): \n",
        "    fig.add_subplot(rows, columns, i)\n",
        "    plt.imshow(np.squeeze(a))\n",
        "    plt.title('\\n'.join(wrap(\"image shape:\"+ str(a.shape)+\" \"+ \n",
        "              str(covert_onehot_string_labels(LABELS,b.numpy())), 25)))\n",
        "    i=i+1\n",
        "  plt.show()\n",
        "show_samples(ds_test)"
      ],
      "execution_count": 56,
      "outputs": [
        {
          "output_type": "stream",
          "name": "stdout",
          "text": [
            "9 samples from the dataset\n"
          ]
        },
        {
          "output_type": "display_data",
          "data": {
            "text/plain": [
              "<Figure size 432x288 with 0 Axes>"
            ]
          },
          "metadata": {}
        },
        {
          "output_type": "display_data",
          "data": {
            "text/plain": [
              "<Figure size 1152x1152 with 9 Axes>"
            ],
            "image/png": "[encoded data removed]"
          },
          "metadata": {
            "needs_background": "light"
          }
        }
      ]
    },
    {
      "cell_type": "code",
      "metadata": {
        "colab": {
          "base_uri": "https://localhost:8080/"
        },
        "id": "9OL2vtcYSb4Y",
        "outputId": "57dac1fc-d6e3-4f7e-ac49-672f47f44611"
      },
      "source": [
        "#buffer_size = ds_train_resize_scale.cardinality().numpy()/10\n",
        "#ds_resize_scale_batched=ds_raw.repeat(3).shuffle(buffer_size=buffer_size).batch(64, )\n",
        "\n",
        "ds_train_batched=ds_train.batch(BATCH_SIZE).cache().prefetch(tf.data.experimental.AUTOTUNE) \n",
        "ds_test_batched=ds_test.batch(BATCH_SIZE).cache().prefetch(tf.data.experimental.AUTOTUNE)\n",
        "\n",
        "print(\"Number of batches in train: \", ds_train_batched.cardinality().numpy())\n",
        "print(\"Number of batches in test: \", ds_test_batched.cardinality().numpy())"
      ],
      "execution_count": 57,
      "outputs": [
        {
          "output_type": "stream",
          "name": "stdout",
          "text": [
            "Number of batches in train:  48\n",
            "Number of batches in test:  12\n"
          ]
        }
      ]
    },
    {
      "cell_type": "code",
      "metadata": {
        "id": "BIVOATstSfgx"
      },
      "source": [
        "# base_model = tf.keras.applications.VGG16(\n",
        "#     weights='imagenet',\n",
        "#     input_shape=(IMG_WIDTH, IMG_HEIGHT, 3),\n",
        "#     include_top=False\n",
        "# )\n",
        "# base_model.trainable=False"
      ],
      "execution_count": 58,
      "outputs": []
    },
    {
      "cell_type": "code",
      "metadata": {
        "id": "BQZN_sm4coTI"
      },
      "source": [
        "mobilenet_v2 = \"https://tfhub.dev/google/tf2-preview/mobilenet_v2/feature_vector/4\"\n",
        "inception_v3 = \"https://tfhub.dev/google/tf2-preview/inception_v3/feature_vector/4\"\n",
        "effienct_v2 = \"https://tfhub.dev/google/imagenet/efficientnet_v2_imagenet21k_ft1k_s/classification/2\"\n",
        "\n",
        "feature_extractor_model = effienct_v2"
      ],
      "execution_count": 68,
      "outputs": []
    },
    {
      "cell_type": "code",
      "metadata": {
        "id": "b9rZIdgicoTI"
      },
      "source": [
        "feature_extractor_layer = hub.KerasLayer(\n",
        "    feature_extractor_model,\n",
        "    input_shape=(IMG_WIDTH, IMG_HEIGHT, 3),\n",
        "    trainable=False\n",
        ")"
      ],
      "execution_count": 82,
      "outputs": []
    },
    {
      "cell_type": "code",
      "metadata": {
        "colab": {
          "base_uri": "https://localhost:8080/"
        },
        "id": "NCFaGKVCcoTJ",
        "outputId": "c2460f7f-6559-4468-8151-c84605780f56"
      },
      "source": [
        "len(bin_df.to_numpy())"
      ],
      "execution_count": null,
      "outputs": [
        {
          "output_type": "execute_result",
          "data": {
            "text/plain": [
              "4625"
            ]
          },
          "metadata": {},
          "execution_count": 106
        }
      ]
    },
    {
      "cell_type": "code",
      "metadata": {
        "id": "mQYn5eFVcoTJ"
      },
      "source": [
        "num_classes = len(LABELS)\n",
        "\n",
        "base_model = tf.keras.Sequential([\n",
        "    tf.keras.layers.InputLayer(input_shape=(IMG_WIDTH, IMG_HEIGHT, 3)),\n",
        "    feature_extractor_layer,\n",
        "    tf.keras.layers.Dropout(0.3),\n",
        "    tf.keras.layers.Dense(num_classes, activation='relu'),\n",
        "    tf.keras.layers.Dropout(0.3),\n",
        "    tf.keras.layers.Dense(num_classes, activation='sigmoid')\n",
        "])\n",
        "base_model.build((None,)+(IMG_WIDTH, IMG_HEIGHT, 3))"
      ],
      "execution_count": 87,
      "outputs": []
    },
    {
      "cell_type": "code",
      "metadata": {
        "id": "NHp6cG31Sh7d"
      },
      "source": [
        "inputs = tf.keras.Input(shape=(IMG_WIDTH, IMG_HEIGHT, 3))\n",
        "x = base_model(inputs, training=False)\n",
        "# x = tf.keras.layers.GlobalAveragePooling2D()(x)\n",
        "initializer = tf.keras.initializers.GlorotUniform(seed=42)\n",
        "\n",
        "activation = tf.keras.activations.sigmoid\n",
        "outputs = tf.keras.layers.Dense(number_of_classes, kernel_initializer=initializer, activation=activation)(x)\n",
        "model = tf.keras.Model(inputs, outputs)"
      ],
      "execution_count": 89,
      "outputs": []
    },
    {
      "cell_type": "code",
      "metadata": {
        "colab": {
          "base_uri": "https://localhost:8080/"
        },
        "id": "O_PUmEbeSliH",
        "outputId": "b05af160-be1b-425b-e5e4-9f0ccff955fb"
      },
      "source": [
        "model.compile(\n",
        "  optimizer=tf.keras.optimizers.Nadam(learning_rate=0.0005),\n",
        "  loss=tf.keras.losses.BinaryCrossentropy(),\n",
        "  metrics=[tf.keras.metrics.BinaryAccuracy()])\n",
        "model.summary()"
      ],
      "execution_count": 90,
      "outputs": [
        {
          "output_type": "stream",
          "name": "stdout",
          "text": [
            "Model: \"model_2\"\n",
            "_________________________________________________________________\n",
            "Layer (type)                 Output Shape              Param #   \n",
            "=================================================================\n",
            "input_13 (InputLayer)        [(None, 64, 64, 3)]       0         \n",
            "_________________________________________________________________\n",
            "sequential_4 (Sequential)    (None, 142)               21774808  \n",
            "_________________________________________________________________\n",
            "dense_12 (Dense)             (None, 142)               20306     \n",
            "=================================================================\n",
            "Total params: 21,795,114\n",
            "Trainable params: 182,754\n",
            "Non-trainable params: 21,612,360\n",
            "_________________________________________________________________\n"
          ]
        }
      ]
    },
    {
      "cell_type": "code",
      "metadata": {
        "colab": {
          "base_uri": "https://localhost:8080/"
        },
        "id": "gjVuMBv7Sm9J",
        "outputId": "2f26c44f-25cf-42df-dd48-7ea2e998a3ad"
      },
      "source": [
        "# model.fit(ds_train_batched, validation_data=ds_test_batched, epochs=100)\n",
        "\n",
        "NUM_EPOCHS = 50\n",
        "\n",
        "early_stopping = tf.keras.callbacks.EarlyStopping(\n",
        "    monitor='loss', min_delta=0.001, patience=3\n",
        ")\n",
        "\n",
        "history = model.fit(ds_train_batched,\n",
        "                    validation_data=ds_test_batched,\n",
        "                    epochs=NUM_EPOCHS,\n",
        "                    verbose=1,\n",
        "                    callbacks=[early_stopping])"
      ],
      "execution_count": 91,
      "outputs": [
        {
          "output_type": "stream",
          "name": "stdout",
          "text": [
            "Epoch 1/50\n",
            "48/48 [==============================] - 17s 148ms/step - loss: 0.3765 - binary_accuracy: 0.8840 - val_loss: 0.1792 - val_binary_accuracy: 0.9598\n",
            "Epoch 2/50\n",
            "48/48 [==============================] - 5s 98ms/step - loss: 0.1456 - binary_accuracy: 0.9648 - val_loss: 0.1280 - val_binary_accuracy: 0.9598\n",
            "Epoch 3/50\n",
            "48/48 [==============================] - 5s 97ms/step - loss: 0.1224 - binary_accuracy: 0.9648 - val_loss: 0.1186 - val_binary_accuracy: 0.9598\n",
            "Epoch 4/50\n",
            "48/48 [==============================] - 5s 98ms/step - loss: 0.1165 - binary_accuracy: 0.9648 - val_loss: 0.1152 - val_binary_accuracy: 0.9598\n",
            "Epoch 5/50\n",
            "48/48 [==============================] - 5s 100ms/step - loss: 0.1136 - binary_accuracy: 0.9648 - val_loss: 0.1127 - val_binary_accuracy: 0.9599\n",
            "Epoch 6/50\n",
            "48/48 [==============================] - 5s 98ms/step - loss: 0.1111 - binary_accuracy: 0.9649 - val_loss: 0.1099 - val_binary_accuracy: 0.9608\n",
            "Epoch 7/50\n",
            "48/48 [==============================] - 5s 98ms/step - loss: 0.1080 - binary_accuracy: 0.9651 - val_loss: 0.1065 - val_binary_accuracy: 0.9617\n",
            "Epoch 8/50\n",
            "48/48 [==============================] - 5s 100ms/step - loss: 0.1048 - binary_accuracy: 0.9658 - val_loss: 0.1038 - val_binary_accuracy: 0.9647\n",
            "Epoch 9/50\n",
            "48/48 [==============================] - 5s 97ms/step - loss: 0.1016 - binary_accuracy: 0.9675 - val_loss: 0.1009 - val_binary_accuracy: 0.9658\n",
            "Epoch 10/50\n",
            "48/48 [==============================] - 5s 99ms/step - loss: 0.0983 - binary_accuracy: 0.9693 - val_loss: 0.0983 - val_binary_accuracy: 0.9672\n",
            "Epoch 11/50\n",
            "48/48 [==============================] - 5s 97ms/step - loss: 0.0949 - binary_accuracy: 0.9703 - val_loss: 0.0959 - val_binary_accuracy: 0.9683\n",
            "Epoch 12/50\n",
            "48/48 [==============================] - 5s 97ms/step - loss: 0.0918 - binary_accuracy: 0.9711 - val_loss: 0.0936 - val_binary_accuracy: 0.9691\n",
            "Epoch 13/50\n",
            "48/48 [==============================] - 5s 98ms/step - loss: 0.0889 - binary_accuracy: 0.9720 - val_loss: 0.0916 - val_binary_accuracy: 0.9696\n",
            "Epoch 14/50\n",
            "48/48 [==============================] - 5s 99ms/step - loss: 0.0863 - binary_accuracy: 0.9729 - val_loss: 0.0899 - val_binary_accuracy: 0.9701\n",
            "Epoch 15/50\n",
            "48/48 [==============================] - 5s 96ms/step - loss: 0.0838 - binary_accuracy: 0.9738 - val_loss: 0.0883 - val_binary_accuracy: 0.9708\n",
            "Epoch 16/50\n",
            "48/48 [==============================] - 5s 98ms/step - loss: 0.0814 - binary_accuracy: 0.9747 - val_loss: 0.0866 - val_binary_accuracy: 0.9712\n",
            "Epoch 17/50\n",
            "48/48 [==============================] - 5s 97ms/step - loss: 0.0789 - binary_accuracy: 0.9754 - val_loss: 0.0849 - val_binary_accuracy: 0.9719\n",
            "Epoch 18/50\n",
            "48/48 [==============================] - 5s 97ms/step - loss: 0.0765 - binary_accuracy: 0.9763 - val_loss: 0.0831 - val_binary_accuracy: 0.9722\n",
            "Epoch 19/50\n",
            "48/48 [==============================] - 5s 97ms/step - loss: 0.0744 - binary_accuracy: 0.9767 - val_loss: 0.0816 - val_binary_accuracy: 0.9731\n",
            "Epoch 20/50\n",
            "48/48 [==============================] - 5s 97ms/step - loss: 0.0724 - binary_accuracy: 0.9773 - val_loss: 0.0802 - val_binary_accuracy: 0.9741\n",
            "Epoch 21/50\n",
            "48/48 [==============================] - 5s 97ms/step - loss: 0.0705 - binary_accuracy: 0.9779 - val_loss: 0.0788 - val_binary_accuracy: 0.9748\n",
            "Epoch 22/50\n",
            "48/48 [==============================] - 5s 97ms/step - loss: 0.0686 - binary_accuracy: 0.9787 - val_loss: 0.0771 - val_binary_accuracy: 0.9753\n",
            "Epoch 23/50\n",
            "48/48 [==============================] - 5s 97ms/step - loss: 0.0668 - binary_accuracy: 0.9794 - val_loss: 0.0757 - val_binary_accuracy: 0.9758\n",
            "Epoch 24/50\n",
            "48/48 [==============================] - 5s 97ms/step - loss: 0.0651 - binary_accuracy: 0.9801 - val_loss: 0.0743 - val_binary_accuracy: 0.9762\n",
            "Epoch 25/50\n",
            "48/48 [==============================] - 5s 97ms/step - loss: 0.0635 - binary_accuracy: 0.9807 - val_loss: 0.0729 - val_binary_accuracy: 0.9765\n",
            "Epoch 26/50\n",
            "48/48 [==============================] - 5s 96ms/step - loss: 0.0619 - binary_accuracy: 0.9813 - val_loss: 0.0716 - val_binary_accuracy: 0.9767\n",
            "Epoch 27/50\n",
            "48/48 [==============================] - 5s 97ms/step - loss: 0.0604 - binary_accuracy: 0.9817 - val_loss: 0.0702 - val_binary_accuracy: 0.9769\n",
            "Epoch 28/50\n",
            "48/48 [==============================] - 5s 96ms/step - loss: 0.0589 - binary_accuracy: 0.9820 - val_loss: 0.0689 - val_binary_accuracy: 0.9771\n",
            "Epoch 29/50\n",
            "48/48 [==============================] - 5s 96ms/step - loss: 0.0575 - binary_accuracy: 0.9824 - val_loss: 0.0675 - val_binary_accuracy: 0.9774\n",
            "Epoch 30/50\n",
            "48/48 [==============================] - 5s 97ms/step - loss: 0.0560 - binary_accuracy: 0.9828 - val_loss: 0.0662 - val_binary_accuracy: 0.9777\n",
            "Epoch 31/50\n",
            "48/48 [==============================] - 5s 97ms/step - loss: 0.0546 - binary_accuracy: 0.9831 - val_loss: 0.0650 - val_binary_accuracy: 0.9782\n",
            "Epoch 32/50\n",
            "48/48 [==============================] - 5s 99ms/step - loss: 0.0533 - binary_accuracy: 0.9835 - val_loss: 0.0638 - val_binary_accuracy: 0.9784\n",
            "Epoch 33/50\n",
            "48/48 [==============================] - 5s 97ms/step - loss: 0.0520 - binary_accuracy: 0.9838 - val_loss: 0.0627 - val_binary_accuracy: 0.9789\n",
            "Epoch 34/50\n",
            "48/48 [==============================] - 5s 97ms/step - loss: 0.0508 - binary_accuracy: 0.9842 - val_loss: 0.0617 - val_binary_accuracy: 0.9792\n",
            "Epoch 35/50\n",
            "48/48 [==============================] - 5s 97ms/step - loss: 0.0496 - binary_accuracy: 0.9845 - val_loss: 0.0606 - val_binary_accuracy: 0.9797\n",
            "Epoch 36/50\n",
            "48/48 [==============================] - 5s 98ms/step - loss: 0.0484 - binary_accuracy: 0.9848 - val_loss: 0.0596 - val_binary_accuracy: 0.9800\n",
            "Epoch 37/50\n",
            "48/48 [==============================] - 5s 98ms/step - loss: 0.0473 - binary_accuracy: 0.9851 - val_loss: 0.0587 - val_binary_accuracy: 0.9803\n",
            "Epoch 38/50\n",
            "48/48 [==============================] - 5s 96ms/step - loss: 0.0462 - binary_accuracy: 0.9854 - val_loss: 0.0579 - val_binary_accuracy: 0.9805\n",
            "Epoch 39/50\n",
            "48/48 [==============================] - 5s 97ms/step - loss: 0.0452 - binary_accuracy: 0.9857 - val_loss: 0.0570 - val_binary_accuracy: 0.9808\n",
            "Epoch 40/50\n",
            "48/48 [==============================] - 5s 97ms/step - loss: 0.0442 - binary_accuracy: 0.9861 - val_loss: 0.0563 - val_binary_accuracy: 0.9811\n",
            "Epoch 41/50\n",
            "48/48 [==============================] - 5s 97ms/step - loss: 0.0433 - binary_accuracy: 0.9863 - val_loss: 0.0555 - val_binary_accuracy: 0.9813\n",
            "Epoch 42/50\n",
            "48/48 [==============================] - 5s 97ms/step - loss: 0.0423 - binary_accuracy: 0.9866 - val_loss: 0.0548 - val_binary_accuracy: 0.9813\n",
            "Epoch 43/50\n",
            "48/48 [==============================] - 5s 97ms/step - loss: 0.0414 - binary_accuracy: 0.9869 - val_loss: 0.0542 - val_binary_accuracy: 0.9816\n",
            "Epoch 44/50\n",
            "48/48 [==============================] - 5s 97ms/step - loss: 0.0405 - binary_accuracy: 0.9871 - val_loss: 0.0536 - val_binary_accuracy: 0.9819\n",
            "Epoch 45/50\n",
            "48/48 [==============================] - 5s 96ms/step - loss: 0.0397 - binary_accuracy: 0.9873 - val_loss: 0.0530 - val_binary_accuracy: 0.9823\n",
            "Epoch 46/50\n",
            "48/48 [==============================] - 5s 97ms/step - loss: 0.0389 - binary_accuracy: 0.9876 - val_loss: 0.0524 - val_binary_accuracy: 0.9825\n",
            "Epoch 47/50\n",
            "48/48 [==============================] - 5s 96ms/step - loss: 0.0381 - binary_accuracy: 0.9878 - val_loss: 0.0519 - val_binary_accuracy: 0.9827\n",
            "Epoch 48/50\n",
            "48/48 [==============================] - 5s 98ms/step - loss: 0.0373 - binary_accuracy: 0.9880 - val_loss: 0.0514 - val_binary_accuracy: 0.9831\n",
            "Epoch 49/50\n",
            "48/48 [==============================] - 5s 97ms/step - loss: 0.0365 - binary_accuracy: 0.9883 - val_loss: 0.0508 - val_binary_accuracy: 0.9834\n",
            "Epoch 50/50\n",
            "48/48 [==============================] - 5s 97ms/step - loss: 0.0358 - binary_accuracy: 0.9885 - val_loss: 0.0504 - val_binary_accuracy: 0.9836\n"
          ]
        }
      ]
    },
    {
      "cell_type": "code",
      "metadata": {
        "colab": {
          "base_uri": "https://localhost:8080/"
        },
        "id": "r42BTIB6r473",
        "outputId": "6c220354-e12e-4641-b123-e9910b632db2"
      },
      "source": [
        "ds= ds_test_batched\n",
        "print(\"Test Accuracy: \", model.evaluate(ds)[1])"
      ],
      "execution_count": 92,
      "outputs": [
        {
          "output_type": "stream",
          "name": "stdout",
          "text": [
            "12/12 [==============================] - 1s 76ms/step - loss: 0.0504 - binary_accuracy: 0.9836\n",
            "Test Accuracy:  0.9835989475250244\n"
          ]
        }
      ]
    },
    {
      "cell_type": "code",
      "metadata": {
        "colab": {
          "base_uri": "https://localhost:8080/"
        },
        "id": "kkxx3P3Jr559",
        "outputId": "e43c2a7e-301e-4da7-dbbc-a65a6e8a6089"
      },
      "source": [
        "ds=ds_test\n",
        "predictions= model.predict(ds.batch(batch_size=50).take(1))\n",
        "# print(\"A sample output from the last layer (model) \", predictions[0])\n",
        "y=[]\n",
        "print(\"10 Sample predictions:\")\n",
        "for (pred,(a,b)) in zip(predictions,ds.take(50)):\n",
        "  pred[pred>0.5]=1\n",
        "  pred[pred<=0.5]=0\n",
        "  print(\"predicted: \" , str(covert_onehot_string_labels(LABELS, pred)),  \n",
        "        \"Actual Label: \", str(covert_onehot_string_labels(LABELS,b.numpy())))\n",
        "  y.append(b.numpy())"
      ],
      "execution_count": 93,
      "outputs": [
        {
          "output_type": "stream",
          "name": "stdout",
          "text": [
            "10 Sample predictions:\n",
            "predicted:  ['Cap Screw', 'Coarse', 'External Hex', 'Hex', 'Steel', 'Yellow'] Actual Label:  ['Coarse', 'Machine Screw', 'Pan', 'Silver', 'Slotted', 'Stainless Steel']\n",
            "predicted:  ['Cap Screw', 'Coarse', 'External Hex', 'Hex', 'Steel', 'Yellow'] Actual Label:  ['External Hex', 'Fine', 'Flange', 'Hex', 'Silver', 'Steel']\n",
            "predicted:  ['Coarse', 'Machine Screw', 'Silver', 'Stainless Steel'] Actual Label:  ['Cap Screw', 'Coarse', 'External Hex', 'Hex', 'Steel', 'Yellow']\n",
            "predicted:  ['Allen', 'Coarse', 'Internal Hex', 'Silver', 'Stainless Steel'] Actual Label:  ['External Hex', 'Fine', 'Flange', 'Hex', 'Silver', 'Steel']\n",
            "predicted:  ['Coarse', 'Machine Screw', 'Silver', 'Slotted', 'Stainless Steel'] Actual Label:  ['Coarse', 'Machine Screw', 'Pan', 'Silver', 'Slotted', 'Stainless Steel']\n",
            "predicted:  ['Coarse', 'External Hex', 'Hex', 'Silver', 'Steel'] Actual Label:  ['External Hex', 'Fine', 'Flange', 'Hex', 'Silver', 'Steel']\n",
            "predicted:  ['Coarse', 'External Hex', 'Hex', 'Silver', 'Steel'] Actual Label:  ['Cap Screw', 'Coarse', 'External Hex', 'Hex', 'Steel', 'Yellow']\n",
            "predicted:  ['Coarse', 'External Hex', 'Hex', 'Silver', 'Steel'] Actual Label:  ['Coarse', 'Machine Screw', 'Pan', 'Silver', 'Slotted', 'Stainless Steel']\n",
            "predicted:  ['Cap Screw', 'Coarse', 'External Hex', 'Hex', 'Silver', 'Steel'] Actual Label:  ['Cap Screw', 'Coarse', 'External Hex', 'Hex', 'Silver', 'Steel']\n",
            "predicted:  ['Cap Screw', 'Coarse', 'External Hex', 'Hex', 'Steel'] Actual Label:  ['Cap Screw', 'Coarse', 'External Hex', 'Hex', 'Silver', 'Steel']\n",
            "predicted:  ['Cap Screw', 'Coarse', 'External Hex', 'Hex', 'Silver', 'Steel'] Actual Label:  ['Coarse', 'Metric Machine Screw', 'Oval', 'Phillips', 'Silver', 'Stainless Steel']\n",
            "predicted:  ['Coarse', 'Machine Screw', 'Oval', 'Phillips', 'Silver', 'Stainless Steel'] Actual Label:  ['Coarse', 'Metric Machine Screw', 'Oval', 'Phillips', 'Silver', 'Stainless Steel']\n",
            "predicted:  ['Coarse', 'Machine Screw', 'Oval', 'Phillips', 'Silver', 'Stainless Steel'] Actual Label:  ['Coarse', 'Metric Machine Screw', 'Oval', 'Phillips', 'Silver', 'Stainless Steel']\n",
            "predicted:  ['Coarse', 'Machine Screw', 'Oval', 'Phillips', 'Silver', 'Stainless Steel'] Actual Label:  ['Cap Screw', 'Coarse', 'External Hex', 'Hex', 'Silver', 'Steel']\n",
            "predicted:  ['Allen', 'Coarse', 'Flat', 'Internal Hex', 'Silver', 'Socket Cap Screw', 'Steel'] Actual Label:  ['Allen', 'Coarse', 'Flat', 'Internal Hex', 'Silver', 'Socket Cap Screw', 'Steel']\n",
            "predicted:  ['Allen', 'Coarse', 'Internal Hex', 'Silver', 'Steel'] Actual Label:  ['Allen', 'Coarse', 'Flat', 'Internal Hex', 'Silver', 'Socket Cap Screw', 'Steel']\n",
            "predicted:  ['Allen', 'Coarse', 'Flat', 'Internal Hex', 'Steel'] Actual Label:  ['External Hex', 'Hex', 'Self Drilling Screw', 'Silver', 'Stainless Steel', 'Washer']\n",
            "predicted:  ['Coarse', 'External Hex', 'Hex', 'Silver', 'Stainless Steel'] Actual Label:  ['Allen', 'Coarse', 'Flat', 'Internal Hex', 'Silver', 'Socket Cap Screw', 'Steel']\n",
            "predicted:  ['Coarse', 'External Hex', 'Hex', 'Silver', 'Stainless Steel'] Actual Label:  ['External Hex', 'Hex', 'Self Drilling Screw', 'Silver', 'Stainless Steel', 'Washer']\n",
            "predicted:  ['Coarse', 'External Hex', 'Hex', 'Silver'] Actual Label:  ['External Hex', 'Hex', 'Self Drilling Screw', 'Silver', 'Stainless Steel', 'Washer']\n",
            "predicted:  ['Allen', 'Coarse', 'Internal Hex', 'No Head', 'Silver', 'Socket Set Screw', 'Stainless Steel'] Actual Label:  ['Allen', 'Coarse', 'Internal Hex', 'No Head', 'Silver', 'Socket Set Screw', 'Stainless Steel']\n",
            "predicted:  ['Allen', 'Coarse', 'Internal Hex', 'No Head', 'Silver', 'Socket Set Screw', 'Stainless Steel'] Actual Label:  ['Allen', 'Coarse', 'Internal Hex', 'No Head', 'Silver', 'Socket Set Screw', 'Stainless Steel']\n",
            "predicted:  ['Allen', 'Coarse', 'Internal Hex', 'No Head', 'Silver', 'Socket Set Screw', 'Stainless Steel'] Actual Label:  ['Allen', 'Coarse', 'Internal Hex', 'No Head', 'Silver', 'Socket Set Screw', 'Stainless Steel']\n",
            "predicted:  ['Coarse', 'Silver', 'Stainless Steel'] Actual Label:  ['Coarse', 'Oval', 'Sheet Metal Screw are Fully Threaded', 'Spanner', 'Spanner Oval Head', 'Stainless Steel']\n",
            "predicted:  ['Coarse', 'Silver', 'Stainless Steel'] Actual Label:  ['Coarse', 'Oval', 'Sheet Metal Screw are Fully Threaded', 'Spanner', 'Spanner Oval Head', 'Stainless Steel']\n",
            "predicted:  ['Coarse', 'Silver', 'Stainless Steel'] Actual Label:  ['Coarse', 'Hanger Bolt', 'Silver', 'Steel']\n",
            "predicted:  ['Coarse', 'Silver', 'Steel'] Actual Label:  ['Coarse', 'Oval', 'Sheet Metal Screw are Fully Threaded', 'Spanner', 'Spanner Oval Head', 'Stainless Steel']\n",
            "predicted:  ['Coarse', 'Silver', 'Steel'] Actual Label:  ['Coarse', 'Hanger Bolt', 'Silver', 'Steel']\n",
            "predicted:  ['Coarse', 'Silver', 'Steel'] Actual Label:  ['Allen', 'Coarse', 'Internal Hex', 'Metric Socket Cap Screw', 'Silver', 'Socket Cap', 'Stainless Steel']\n",
            "predicted:  ['Allen', 'Coarse', 'Internal Hex', 'Silver', 'Socket Cap', 'Socket Cap Screw', 'Stainless Steel'] Actual Label:  ['Coarse', 'Hanger Bolt', 'Silver', 'Steel']\n",
            "predicted:  ['Allen', 'Coarse', 'Internal Hex', 'Silver', 'Socket Cap', 'Socket Cap Screw', 'Stainless Steel'] Actual Label:  ['Allen', 'Coarse', 'Internal Hex', 'Metric Socket Cap Screw', 'Silver', 'Socket Cap', 'Stainless Steel']\n",
            "predicted:  ['Allen', 'Coarse', 'Internal Hex', 'Silver', 'Socket Cap', 'Socket Cap Screw', 'Stainless Steel'] Actual Label:  ['Allen', 'Coarse', 'Internal Hex', 'Metric Socket Cap Screw', 'Silver', 'Socket Cap', 'Stainless Steel']\n",
            "predicted:  ['Allen', 'Coarse', 'Internal Hex', 'No Head', 'Silver', 'Socket Set Screw', 'Stainless Steel'] Actual Label:  ['Allen', 'Coarse', 'Internal Hex', 'No Head', 'Silver', 'Socket Set Screw', 'Stainless Steel']\n",
            "predicted:  ['Allen', 'Coarse', 'Internal Hex', 'No Head', 'Silver', 'Socket Set Screw', 'Stainless Steel'] Actual Label:  ['Fine', 'Machine Screw are Fully Threaded', 'Oval', 'Spanner', 'Spanner Oval Head', 'Stainless Steel']\n",
            "predicted:  ['Allen', 'Coarse', 'Internal Hex', 'No Head', 'Silver', 'Socket Set Screw', 'Stainless Steel'] Actual Label:  ['Allen', 'Coarse', 'Internal Hex', 'No Head', 'Silver', 'Socket Set Screw', 'Stainless Steel']\n",
            "predicted:  ['Coarse', 'Stainless Steel'] Actual Label:  ['Allen', 'Coarse', 'Internal Hex', 'No Head', 'Silver', 'Socket Set Screw', 'Stainless Steel']\n",
            "predicted:  ['Coarse', 'Stainless Steel'] Actual Label:  ['Coarse', 'Oval', 'Sheet Metal Screw are Fully Threaded', 'Spanner', 'Spanner Oval Head', 'Stainless Steel']\n",
            "predicted:  ['Coarse', 'Stainless Steel'] Actual Label:  ['Fine', 'Machine Screw are Fully Threaded', 'Oval', 'Spanner', 'Spanner Oval Head', 'Stainless Steel']\n",
            "predicted:  ['Coarse', 'Silver', 'Stainless Steel'] Actual Label:  ['Fine', 'Machine Screw are Fully Threaded', 'Oval', 'Spanner', 'Spanner Oval Head', 'Stainless Steel']\n",
            "predicted:  ['Coarse', 'Silver', 'Stainless Steel'] Actual Label:  ['Coarse', 'Oval', 'Sheet Metal Screw are Fully Threaded', 'Spanner', 'Spanner Oval Head', 'Stainless Steel']\n",
            "predicted:  ['Coarse', 'Silver', 'Stainless Steel'] Actual Label:  ['Coarse', 'Oval', 'Sheet Metal Screw are Fully Threaded', 'Spanner', 'Spanner Oval Head', 'Stainless Steel']\n",
            "predicted:  ['Allen', 'Coarse', 'Internal Hex', 'No Head', 'Silver', 'Socket Set Screw', 'Stainless Steel'] Actual Label:  ['Allen', 'Fine', 'Internal Hex', 'No Head', 'Silver', 'Socket Set Screw', 'Stainless Steel']\n",
            "predicted:  ['Allen', 'Coarse', 'Internal Hex', 'No Head', 'Silver', 'Socket Set Screw', 'Stainless Steel'] Actual Label:  ['Allen', 'Fine', 'Internal Hex', 'No Head', 'Silver', 'Socket Set Screw', 'Stainless Steel']\n",
            "predicted:  ['Allen', 'Coarse', 'Internal Hex', 'No Head', 'Silver', 'Socket Set Screw', 'Stainless Steel'] Actual Label:  ['Allen', 'Black', 'Coarse', 'Flat', 'Internal Hex', 'Socket Cap Screw', 'Steel']\n",
            "predicted:  ['Allen', 'Black', 'Coarse', 'Flat', 'Internal Hex', 'Socket Cap Screw', 'Stainless Steel'] Actual Label:  ['Allen', 'Fine', 'Internal Hex', 'No Head', 'Silver', 'Socket Set Screw', 'Stainless Steel']\n",
            "predicted:  ['Allen', 'Internal Hex', 'Socket Cap Screw', 'Stainless Steel', 'Steel'] Actual Label:  ['Allen', 'Black', 'Coarse', 'Flat', 'Internal Hex', 'Socket Cap Screw', 'Steel']\n",
            "predicted:  ['Black', 'Coarse', 'Star'] Actual Label:  ['Allen', 'Black', 'Coarse', 'Flat', 'Internal Hex', 'Socket Cap Screw', 'Steel']\n",
            "predicted:  ['Cap Screw', 'Coarse', 'External Hex', 'Hex', 'Silver', 'Stainless Steel'] Actual Label:  ['Aluminum', 'Cap Screw', 'Coarse', 'External Hex', 'Hex', 'Silver']\n",
            "predicted:  ['Cap Screw', 'Coarse', 'External Hex', 'Hex', 'Silver', 'Steel'] Actual Label:  ['Aluminum', 'Cap Screw', 'Coarse', 'External Hex', 'Hex', 'Silver']\n",
            "predicted:  ['Cap Screw', 'Coarse', 'External Hex', 'Hex', 'Silver'] Actual Label:  ['Aluminum', 'Cap Screw', 'Coarse', 'External Hex', 'Hex', 'Silver']\n"
          ]
        }
      ]
    }
  ]
}